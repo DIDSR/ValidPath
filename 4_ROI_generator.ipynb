{
 "cells": [
  {
   "cell_type": "markdown",
   "id": "475e0dec",
   "metadata": {},
   "source": [
    "# ROI Generator\n",
    "\n",
    "Click to open in:  \\[[GitHub](https://github.com/DIDSR/wsi_processing_toolbox/4_ROI_generator.ipynb)\\]\n",
    "\n",
    "Developer: Seyed.kahaki@fda.hhs.gov"
   ]
  },
  {
   "cell_type": "markdown",
   "id": "1940fa46",
   "metadata": {},
   "source": [
    "## Patch Extraction Demo\n",
    "This demonstration guides you through the process of using WSIToolbox to extract patches within annotations. This feature enabled using the patch_extraction method. "
   ]
  },
  {
   "cell_type": "markdown",
   "id": "a6cd0b1d",
   "metadata": {},
   "source": [
    "## Environment Configuration\n",
    "\n",
    "Please follow the instruction provided in the Installation section to install related dependencies. If this isn't your first time running this code and you have all these packages installed, you can skip to the next step. If you choose to run it regardless, you might encounter an error message; however, this won't negatively impact your session. On Jupyter Notebook, this cell is responsible for installing required packages for wsi_reader module."
   ]
  },
  {
   "cell_type": "code",
   "execution_count": 7,
   "id": "ca316613",
   "metadata": {},
   "outputs": [
    {
     "name": "stdout",
     "output_type": "stream",
     "text": [
      "3.8.8\n",
      "Installation is done.\n"
     ]
    }
   ],
   "source": [
    "# to check the python version\n",
    "from platform import python_version\n",
    "print(python_version())\n",
    "#pip os\n",
    "#pip lxml==4.9.1\n",
    "#pip pandas\n",
    "print(\"Installation is done.\")"
   ]
  },
  {
   "cell_type": "markdown",
   "id": "73f2f380",
   "metadata": {},
   "source": [
    "## Loading Required Packages\n",
    "\n",
    "In this step, we will import several Python modules that are needed for our analysis."
   ]
  },
  {
   "cell_type": "code",
   "execution_count": 8,
   "id": "30b14a2a",
   "metadata": {},
   "outputs": [],
   "source": [
    "from assessment.ROI import ROI_Generator\n",
    "ROI_Generator = ROI_Generator()"
   ]
  },
  {
   "cell_type": "markdown",
   "id": "537ef42c",
   "metadata": {},
   "source": [
    "## ROI Generation Pipeline\n",
    "<img width = '600' src=\"img/ROI_Gen.PNG\">"
   ]
  },
  {
   "cell_type": "markdown",
   "id": "ef3e6ef6",
   "metadata": {},
   "source": [
    "## Generating the Map File\n"
   ]
  },
  {
   "cell_type": "code",
   "execution_count": 15,
   "id": "6f591393",
   "metadata": {},
   "outputs": [],
   "source": [
    "#input_DIR = 'C:/Users/WXC4/ExampleData/patch_extdata/png_files/washu-aperio-007-0'\n",
    "#input_DIR = 'C:/Users/WXC4/OneDrive - FDA/Shared Documents/Research/Digital Pathology/007 Seyed_SyntheticNucleiSegmentation_RepGenAI_ML/19_RST/ROIs'\n",
    "#input_DIR = 'C:/Users/WXC4/ExampleData/ROIs'\n",
    "input_DIR = 'C:/DATA/ROIs'\n",
    "#input_DIR = 'C:/DATA/0_Washu-Aperio/out_dir/data/png_files/aperio-002-0/'\n",
    "output_DIR = 'C:/DATA/temp/'\n",
    "#output_DIR = 'C:/Users/WXC4/ExampleData/'\n",
    "file_Name = 'mapfileTEST.csv'"
   ]
  },
  {
   "cell_type": "code",
   "execution_count": 16,
   "id": "e8526a3a",
   "metadata": {},
   "outputs": [
    {
     "name": "stdout",
     "output_type": "stream",
     "text": [
      "C:/DATA/ROIs\n"
     ]
    }
   ],
   "source": [
    "ROI_Generator.generate_map_file(input_DIR,output_DIR,file_Name,'test')"
   ]
  },
  {
   "cell_type": "markdown",
   "id": "0bbb36ef",
   "metadata": {},
   "source": [
    "## Generate ROIs"
   ]
  },
  {
   "cell_type": "code",
   "execution_count": 17,
   "id": "e20b842c",
   "metadata": {},
   "outputs": [
    {
     "name": "stdout",
     "output_type": "stream",
     "text": [
      "BA-09-85 HE\n",
      "51700\n",
      "255\n",
      "BA-11-07 1A HE\n",
      "32192\n",
      "255\n",
      "BA-17-44 HE\n",
      "23988\n",
      "255\n",
      "BA-24-78\n",
      "7264\n",
      "255\n",
      "aperio-004-0\n",
      "24080\n",
      "255\n",
      "aperio-022-0\n",
      "16512\n",
      "255\n",
      "aperio-025-0\n",
      "42753\n",
      "255\n",
      "aperio-031-0\n",
      "84724\n",
      "255\n",
      "aperio-051-0\n",
      "24819\n",
      "255\n",
      "aperio-052-0\n",
      "38752\n",
      "255\n",
      "aperio-072-0\n",
      "44498\n",
      "255\n",
      "aperio-081-0\n",
      "16032\n",
      "255\n",
      "aperio-109-0\n",
      "85776\n",
      "255\n",
      "aperio-130-0\n",
      "77447\n",
      "255\n",
      "aperio-134-0\n",
      "140602\n",
      "255\n",
      "aperio-135-0\n",
      "115430\n",
      "255\n",
      "aperio-142-0\n",
      "97856\n",
      "255\n"
     ]
    }
   ],
   "source": [
    "#input_DIR = 'C:/Users/WXC4/ExampleData/'\n",
    "input_DIR = output_DIR\n",
    "file_Name = 'mapfileTEST.csv'\n",
    "path_size= 255\n",
    "#ROI_output_DIR =r'C:/Users/WXC4/ExampleData/'\n",
    "ROI_output_DIR =r'C:/DATA/temp/'\n",
    "tag_name = 'Test'\n",
    "\n",
    "ROI_Generator.create_xml(input_DIR,file_Name,path_size ,ROI_output_DIR)"
   ]
  },
  {
   "cell_type": "code",
   "execution_count": null,
   "id": "43e74393",
   "metadata": {},
   "outputs": [],
   "source": []
  }
 ],
 "metadata": {
  "kernelspec": {
   "display_name": "Python 3",
   "language": "python",
   "name": "python3"
  },
  "language_info": {
   "codemirror_mode": {
    "name": "ipython",
    "version": 3
   },
   "file_extension": ".py",
   "mimetype": "text/x-python",
   "name": "python",
   "nbconvert_exporter": "python",
   "pygments_lexer": "ipython3",
   "version": "3.8.8"
  }
 },
 "nbformat": 4,
 "nbformat_minor": 5
}

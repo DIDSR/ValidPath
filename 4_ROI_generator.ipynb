{
 "cells": [
  {
   "cell_type": "markdown",
   "id": "475e0dec",
   "metadata": {},
   "source": [
    "# ROI Generator\n",
    "\n",
    "Click to open in:  \\[[GitHub](https://github.com/DIDSR/wsi_processing_toolbox/4_ROI_generator.ipynb)\\]\n",
    "\n",
    "Developer: Seyed.kahaki@fda.hhs.gov"
   ]
  },
  {
   "cell_type": "markdown",
   "id": "1940fa46",
   "metadata": {},
   "source": [
    "## Patch Extraction Demo\n",
    "This demonstration guides you through the process of using WSIToolbox to extract patches within annotations. This feature enabled using the patch_extraction method. "
   ]
  },
  {
   "cell_type": "markdown",
   "id": "a6cd0b1d",
   "metadata": {},
   "source": [
    "## Environment Configuration\n",
    "\n",
    "Please follow the instruction provided in the Installation section to install related dependencies. If this isn't your first time running this code and you have all these packages installed, you can skip to the next step. If you choose to run it regardless, you might encounter an error message; however, this won't negatively impact your session. On Jupyter Notebook, this cell is responsible for installing required packages for wsi_reader module."
   ]
  },
  {
   "cell_type": "code",
   "execution_count": null,
   "id": "ca316613",
   "metadata": {},
   "outputs": [],
   "source": [
    "# to check the python version\n",
    "from platform import python_version\n",
    "print(python_version())\n",
    "#pip os\n",
    "#pip lxml==4.9.1\n",
    "#pip pandas\n",
    "print(\"Installation is done.\")"
   ]
  },
  {
   "cell_type": "markdown",
   "id": "73f2f380",
   "metadata": {},
   "source": [
    "## Loading Required Packages\n",
    "\n",
    "In this step, we will import several Python modules that are needed for our analysis."
   ]
  },
  {
   "cell_type": "code",
   "execution_count": 1,
   "id": "30b14a2a",
   "metadata": {},
   "outputs": [],
   "source": [
    "from assessment.ROI import ROI_Generator\n",
    "ROI_Generator = ROI_Generator()"
   ]
  },
  {
   "cell_type": "markdown",
   "id": "537ef42c",
   "metadata": {},
   "source": [
    "## ROI Generation Pipeline\n",
    "<img width = '600' src=\"img/ROI_Gen.PNG\">"
   ]
  },
  {
   "cell_type": "markdown",
   "id": "ef3e6ef6",
   "metadata": {},
   "source": [
    "## Generating the Map File\n"
   ]
  },
  {
   "cell_type": "code",
   "execution_count": 2,
   "id": "6f591393",
   "metadata": {},
   "outputs": [],
   "source": [
    "#input_DIR = 'C:/Users/WXC4/ExampleData/patch_extdata/png_files/washu-aperio-007-0'\n",
    "#input_DIR = 'C:/Users/WXC4/OneDrive - FDA/Shared Documents/Research/Digital Pathology/007 Seyed_SyntheticNucleiSegmentation_RepGenAI_ML/19_RST/ROIs'\n",
    "#input_DIR = 'C:/Users/WXC4/ExampleData/ROIs'\n",
    "input_DIR = 'C:/DATA/ROIs'\n",
    "output_DIR = 'C:/DATA/temp/'\n",
    "file_Name = 'mapfileTEST.csv'\n",
    "\n"
   ]
  },
  {
   "cell_type": "code",
   "execution_count": 3,
   "id": "e8526a3a",
   "metadata": {},
   "outputs": [],
   "source": [
    "ROI_Generator.generate_map_file(input_DIR,output_DIR,file_Name,'test')"
   ]
  },
  {
   "cell_type": "markdown",
   "id": "0bbb36ef",
   "metadata": {},
   "source": [
    "## Generate ROIs"
   ]
  },
  {
   "cell_type": "code",
   "execution_count": null,
   "id": "e20b842c",
   "metadata": {},
   "outputs": [],
   "source": [
    "input_DIR = 'C:/DATA/6_ML_Patches/'\n",
    "file_Name = 'coordinatesTEST.csv'\n",
    "path_size= 255\n",
    "ROI_output_DIR =r'C:/DATA/temp/ForPathologistReview_TEST/'\n",
    "tag_name = 'HighRanked'\n",
    "\n",
    "ROI_Generator = ROI_Generator()\n",
    "\n",
    "\n",
    "ROI_Generator.create_xml(input_DIR,file_Name,path_size ,ROI_output_DIR,tag_name)"
   ]
  },
  {
   "cell_type": "code",
   "execution_count": null,
   "id": "43e74393",
   "metadata": {},
   "outputs": [],
   "source": []
  }
 ],
 "metadata": {
  "kernelspec": {
   "display_name": "Python 3",
   "language": "python",
   "name": "python3"
  },
  "language_info": {
   "codemirror_mode": {
    "name": "ipython",
    "version": 3
   },
   "file_extension": ".py",
   "mimetype": "text/x-python",
   "name": "python",
   "nbconvert_exporter": "python",
   "pygments_lexer": "ipython3",
   "version": "3.8.8"
  }
 },
 "nbformat": 4,
 "nbformat_minor": 5
}

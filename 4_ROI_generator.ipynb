{
 "cells": [
  {
   "cell_type": "markdown",
   "id": "475e0dec",
   "metadata": {},
   "source": [
    "# ROI Generator\n",
    "\n",
    "Click to open in:  \\[[GitHub](https://github.com/DIDSR/wsi_processing_toolbox/4_ROI_generator.ipynb)\\]\n",
    "\n",
    "Developer: Seyed.kahaki@fda.hhs.gov"
   ]
  },
  {
   "cell_type": "markdown",
   "id": "1940fa46",
   "metadata": {},
   "source": [
    "## Patch Extraction Demo\n",
    "This demonstration guides you through the process of using WSIToolbox to extract patches within annotations. This feature enabled using the patch_extraction method. "
   ]
  },
  {
   "cell_type": "markdown",
   "id": "a6cd0b1d",
   "metadata": {},
   "source": [
    "## Environment Configuration\n",
    "\n",
    "Please follow the instruction provided in the Installation section to install related dependencies. If this isn't your first time running this code and you have all these packages installed, you can skip to the next step. If you choose to run it regardless, you might encounter an error message; however, this won't negatively impact your session. On Jupyter Notebook, this cell is responsible for installing required packages for wsi_reader module."
   ]
  },
  {
   "cell_type": "code",
   "execution_count": 1,
   "id": "ca316613",
   "metadata": {},
   "outputs": [
    {
     "name": "stdout",
     "output_type": "stream",
     "text": [
      "3.8.8\n",
      "Installation is done.\n"
     ]
    }
   ],
   "source": [
    "# to check the python version\n",
    "from platform import python_version\n",
    "print(python_version())\n",
    "#pip os\n",
    "#pip lxml==4.9.1\n",
    "#pip pandas\n",
    "print(\"Installation is done.\")"
   ]
  },
  {
   "cell_type": "markdown",
   "id": "73f2f380",
   "metadata": {},
   "source": [
    "## Loading Required Packages\n",
    "\n",
    "In this step, we will import several Python modules that are needed for our analysis."
   ]
  },
  {
   "cell_type": "code",
   "execution_count": 2,
   "id": "30b14a2a",
   "metadata": {},
   "outputs": [],
   "source": [
    "from assessment.ROI import ROI_Generator\n",
    "ROI_Generator = ROI_Generator()"
   ]
  },
  {
   "cell_type": "markdown",
   "id": "537ef42c",
   "metadata": {},
   "source": [
    "## ROI Generation Pipeline\n",
    "<img width = '600' src=\"img/ROI_Gen.PNG\">"
   ]
  },
  {
   "cell_type": "markdown",
   "id": "ef3e6ef6",
   "metadata": {},
   "source": [
    "## Generating the Map File\n"
   ]
  },
  {
   "cell_type": "code",
   "execution_count": 5,
   "id": "6f591393",
   "metadata": {},
   "outputs": [],
   "source": [
    "#input_DIR = 'C:/Users/WXC4/ExampleData/patch_extdata/png_files/washu-aperio-007-0'\n",
    "#input_DIR = 'C:/Users/WXC4/OneDrive - FDA/Shared Documents/Research/Digital Pathology/007 Seyed_SyntheticNucleiSegmentation_RepGenAI_ML/19_RST/ROIs'\n",
    "#input_DIR = 'C:/Users/WXC4/ExampleData/ROIs'\n",
    "#input_DIR = 'C:/DATA/ROIs'\n",
    "input_DIR = 'C:/DATA/0_Washu-Aperio/out_dir/data/png_files/aperio-002-0/'\n",
    "output_DIR = 'C:/DATA/temp/'\n",
    "#output_DIR = 'C:/Users/WXC4/ExampleData/'\n",
    "file_Name = 'mapfileTEST1.csv'\n",
    "\n"
   ]
  },
  {
   "cell_type": "code",
   "execution_count": 6,
   "id": "e8526a3a",
   "metadata": {},
   "outputs": [
    {
     "name": "stdout",
     "output_type": "stream",
     "text": [
      "C:/DATA/0_Washu-Aperio/out_dir/data/png_files/aperio-002-0/\n"
     ]
    }
   ],
   "source": [
    "ROI_Generator.generate_map_file(input_DIR,output_DIR,file_Name,'test')"
   ]
  },
  {
   "cell_type": "markdown",
   "id": "0bbb36ef",
   "metadata": {},
   "source": [
    "## Generate ROIs"
   ]
  },
  {
   "cell_type": "code",
   "execution_count": 2,
   "id": "e20b842c",
   "metadata": {},
   "outputs": [
    {
     "name": "stderr",
     "output_type": "stream",
     "text": [
      "C:\\Users\\WXC4\\OneDrive - FDA\\Documents\\Research\\DigiPath\\pythonCode\\WSI-RST\\wsitoolbox\\assessment\\ROI.py:62: FutureWarning: Series.__getitem__ treating keys as positions is deprecated. In a future version, integer keys will always be treated as labels (consistent with DataFrame behavior). To access a value by position, use `ser.iloc[pos]`\n",
      "  object_elem.set(\"Name\", str(lst_of_ann[count]) )\n",
      "C:\\Users\\WXC4\\OneDrive - FDA\\Documents\\Research\\DigiPath\\pythonCode\\WSI-RST\\wsitoolbox\\assessment\\ROI.py:80: FutureWarning: Series.__getitem__ treating keys as positions is deprecated. In a future version, integer keys will always be treated as labels (consistent with DataFrame behavior). To access a value by position, use `ser.iloc[pos]`\n",
      "  self.make_region(dataf['X'][k], dataf['Y'][k], k+1,dataf['TEXT'][k],path_size,Regions)\n"
     ]
    },
    {
     "name": "stdout",
     "output_type": "stream",
     "text": [
      "anno\n",
      "reg\n",
      "255\n"
     ]
    },
    {
     "ename": "TypeError",
     "evalue": "can only concatenate str (not \"int\") to str",
     "output_type": "error",
     "traceback": [
      "\u001b[1;31m---------------------------------------------------------------------------\u001b[0m",
      "\u001b[1;31mTypeError\u001b[0m                                 Traceback (most recent call last)",
      "Cell \u001b[1;32mIn[2], line 7\u001b[0m\n\u001b[0;32m      4\u001b[0m ROI_output_DIR \u001b[38;5;241m=\u001b[39m\u001b[38;5;124mr\u001b[39m\u001b[38;5;124m'\u001b[39m\u001b[38;5;124mC:/Users/WXC4/ExampleData/\u001b[39m\u001b[38;5;124m'\u001b[39m\n\u001b[0;32m      5\u001b[0m tag_name \u001b[38;5;241m=\u001b[39m \u001b[38;5;124m'\u001b[39m\u001b[38;5;124mTest\u001b[39m\u001b[38;5;124m'\u001b[39m\n\u001b[1;32m----> 7\u001b[0m ROI_Generator\u001b[38;5;241m.\u001b[39mcreate_xml(input_DIR,file_Name,path_size ,ROI_output_DIR)\n",
      "File \u001b[1;32m~\\OneDrive - FDA\\Documents\\Research\\DigiPath\\pythonCode\\WSI-RST\\wsitoolbox\\assessment\\ROI.py:80\u001b[0m, in \u001b[0;36mROI_Generator.create_xml\u001b[1;34m(self, input_DIR, file_path, path_size, save_xml_path)\u001b[0m\n\u001b[0;32m     78\u001b[0m         count \u001b[38;5;241m+\u001b[39m\u001b[38;5;241m=\u001b[39m \u001b[38;5;241m1\u001b[39m\n\u001b[0;32m     79\u001b[0m         \u001b[38;5;66;03m#print(dataf['X'],\"\\t\" ,dataf['Y'],\"\\t\",dataf['TEXT'])\u001b[39;00m\n\u001b[1;32m---> 80\u001b[0m         \u001b[38;5;28mself\u001b[39m\u001b[38;5;241m.\u001b[39mmake_region(dataf[\u001b[38;5;124m'\u001b[39m\u001b[38;5;124mX\u001b[39m\u001b[38;5;124m'\u001b[39m][k], dataf[\u001b[38;5;124m'\u001b[39m\u001b[38;5;124mY\u001b[39m\u001b[38;5;124m'\u001b[39m][k], k\u001b[38;5;241m+\u001b[39m\u001b[38;5;241m1\u001b[39m,dataf[\u001b[38;5;124m'\u001b[39m\u001b[38;5;124mTEXT\u001b[39m\u001b[38;5;124m'\u001b[39m][k],path_size,Regions)\n\u001b[0;32m     83\u001b[0m out \u001b[38;5;241m=\u001b[39m et\u001b[38;5;241m.\u001b[39mtostring(root, pretty_print\u001b[38;5;241m=\u001b[39m\u001b[38;5;28;01mTrue\u001b[39;00m, encoding\u001b[38;5;241m=\u001b[39m\u001b[38;5;124m'\u001b[39m\u001b[38;5;124mutf8\u001b[39m\u001b[38;5;124m'\u001b[39m) \n\u001b[0;32m     84\u001b[0m savepath \u001b[38;5;241m=\u001b[39m os\u001b[38;5;241m.\u001b[39mpath\u001b[38;5;241m.\u001b[39mjoin(save_xml_path, \u001b[38;5;124mf\u001b[39m\u001b[38;5;124m'\u001b[39m\u001b[38;5;132;01m{\u001b[39;00mwsi_name\u001b[38;5;132;01m}\u001b[39;00m\u001b[38;5;124m.xml\u001b[39m\u001b[38;5;124m'\u001b[39m)\n",
      "File \u001b[1;32m~\\OneDrive - FDA\\Documents\\Research\\DigiPath\\pythonCode\\WSI-RST\\wsitoolbox\\assessment\\ROI.py:28\u001b[0m, in \u001b[0;36mROI_Generator.make_region\u001b[1;34m(self, x, y, id, txt, path_size, Regions)\u001b[0m\n\u001b[0;32m     26\u001b[0m Vertex\u001b[38;5;241m.\u001b[39mset(\u001b[38;5;124m'\u001b[39m\u001b[38;5;124mZ\u001b[39m\u001b[38;5;124m'\u001b[39m, \u001b[38;5;28mstr\u001b[39m(\u001b[38;5;241m0\u001b[39m))\n\u001b[0;32m     27\u001b[0m Vertex \u001b[38;5;241m=\u001b[39m et\u001b[38;5;241m.\u001b[39mSubElement(Vertices, \u001b[38;5;124m'\u001b[39m\u001b[38;5;124mVertex\u001b[39m\u001b[38;5;124m'\u001b[39m) \u001b[38;5;66;03m# top right\u001b[39;00m\n\u001b[1;32m---> 28\u001b[0m Vertex\u001b[38;5;241m.\u001b[39mset(\u001b[38;5;124m'\u001b[39m\u001b[38;5;124mX\u001b[39m\u001b[38;5;124m'\u001b[39m, \u001b[38;5;28mstr\u001b[39m(x\u001b[38;5;241m+\u001b[39mpath_size))\n\u001b[0;32m     29\u001b[0m Vertex\u001b[38;5;241m.\u001b[39mset(\u001b[38;5;124m'\u001b[39m\u001b[38;5;124mY\u001b[39m\u001b[38;5;124m'\u001b[39m, \u001b[38;5;28mstr\u001b[39m(y))\n\u001b[0;32m     30\u001b[0m Vertex\u001b[38;5;241m.\u001b[39mset(\u001b[38;5;124m'\u001b[39m\u001b[38;5;124mZ\u001b[39m\u001b[38;5;124m'\u001b[39m, \u001b[38;5;28mstr\u001b[39m(\u001b[38;5;241m0\u001b[39m))\n",
      "\u001b[1;31mTypeError\u001b[0m: can only concatenate str (not \"int\") to str"
     ]
    }
   ],
   "source": [
    "input_DIR = 'C:/Users/WXC4/ExampleData/'\n",
    "file_Name = 'mapfileTEST.csv'\n",
    "path_size= 255\n",
    "ROI_output_DIR =r'C:/Users/WXC4/ExampleData/'\n",
    "tag_name = 'Test'\n",
    "\n",
    "ROI_Generator.create_xml(input_DIR,file_Name,path_size ,ROI_output_DIR)"
   ]
  },
  {
   "cell_type": "code",
   "execution_count": null,
   "id": "43e74393",
   "metadata": {},
   "outputs": [],
   "source": []
  }
 ],
 "metadata": {
  "kernelspec": {
   "display_name": "Python 3",
   "language": "python",
   "name": "python3"
  },
  "language_info": {
   "codemirror_mode": {
    "name": "ipython",
    "version": 3
   },
   "file_extension": ".py",
   "mimetype": "text/x-python",
   "name": "python",
   "nbconvert_exporter": "python",
   "pygments_lexer": "ipython3",
   "version": "3.8.8"
  }
 },
 "nbformat": 4,
 "nbformat_minor": 5
}

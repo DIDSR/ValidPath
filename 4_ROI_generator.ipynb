{
 "cells": [
  {
   "cell_type": "markdown",
   "id": "475e0dec",
   "metadata": {},
   "source": [
    "# ROI Generator\n",
    "\n",
    "Click to open in:  \\[[GitHub](https://github.com/DIDSR/wsi_processing_toolbox/4_ROI_generator.ipynb)\\]\n",
    "\n",
    "Developer: Seyed.kahaki@fda.hhs.gov"
   ]
  },
  {
   "cell_type": "markdown",
   "id": "1940fa46",
   "metadata": {},
   "source": [
    "## Patch Extraction Demo\n",
    "This demonstration guides you through the process of using WSIToolbox to extract patches within annotations. This feature enabled using the patch_extraction method. "
   ]
  },
  {
   "cell_type": "markdown",
   "id": "a6cd0b1d",
   "metadata": {},
   "source": [
    "## Environment Configuration\n",
    "\n",
    "Please follow the instruction provided in the Installation section to install related dependencies. If this isn't your first time running this code and you have all these packages installed, you can skip to the next step. If you choose to run it regardless, you might encounter an error message; however, this won't negatively impact your session. On Jupyter Notebook, this cell is responsible for installing required packages for wsi_reader module."
   ]
  },
  {
   "cell_type": "code",
   "execution_count": 1,
   "id": "ca316613",
   "metadata": {},
   "outputs": [
    {
     "name": "stdout",
     "output_type": "stream",
     "text": [
      "3.11.5\n",
      "Installation is done.\n"
     ]
    }
   ],
   "source": [
    "# to check the python version\n",
    "from platform import python_version\n",
    "print(python_version())\n",
    "#pip os\n",
    "#pip lxml==4.9.1\n",
    "#pip pandas\n",
    "print(\"Installation is done.\")"
   ]
  },
  {
   "cell_type": "markdown",
   "id": "73f2f380",
   "metadata": {},
   "source": [
    "## Loading Required Packages\n",
    "\n",
    "In this step, we will import several Python modules that are needed for our analysis."
   ]
  },
  {
   "cell_type": "code",
   "execution_count": 5,
   "id": "30b14a2a",
   "metadata": {},
   "outputs": [],
   "source": [
    "from assessment.ROI import ROI_Generator"
   ]
  },
  {
   "cell_type": "markdown",
   "id": "537ef42c",
   "metadata": {},
   "source": [
    "## ROI Generation Pipeline\n",
    "<img width = '600' src=\"img/ROI_Gen.PNG\">"
   ]
  },
  {
   "cell_type": "markdown",
   "id": "ef3e6ef6",
   "metadata": {},
   "source": [
    "## Generating the Map File\n"
   ]
  },
  {
   "cell_type": "code",
   "execution_count": 6,
   "id": "6f591393",
   "metadata": {},
   "outputs": [
    {
     "ename": "TypeError",
     "evalue": "expected str, bytes or os.PathLike object, not ROI_Generator",
     "output_type": "error",
     "traceback": [
      "\u001b[1;31m---------------------------------------------------------------------------\u001b[0m",
      "\u001b[1;31mTypeError\u001b[0m                                 Traceback (most recent call last)",
      "Cell \u001b[1;32mIn[6], line 7\u001b[0m\n\u001b[0;32m      5\u001b[0m file_Name \u001b[38;5;241m=\u001b[39m \u001b[38;5;124m'\u001b[39m\u001b[38;5;124mmapfileTEST.csv\u001b[39m\u001b[38;5;124m'\u001b[39m\n\u001b[0;32m      6\u001b[0m ROI_Generator \u001b[38;5;241m=\u001b[39m ROI_Generator()\n\u001b[1;32m----> 7\u001b[0m ROI_Generator\u001b[38;5;241m.\u001b[39mgenerate_map_file(input_DIR,output_DIR,file_Name)\n",
      "File \u001b[1;32m~\\OneDrive - FDA\\Documents\\Research\\DigiPath\\pythonCode\\WSI-RST\\wsitoolbox\\assessment\\ROI.py:93\u001b[0m, in \u001b[0;36mROI_Generator.generate_map_file\u001b[1;34m(input_DIR, output_DIR, file_Name, tag_name)\u001b[0m\n\u001b[0;32m     86\u001b[0m \u001b[38;5;28;01mdef\u001b[39;00m \u001b[38;5;21mgenerate_map_file\u001b[39m(input_DIR,output_DIR, file_Name,tag_name):            \n\u001b[0;32m     87\u001b[0m     \u001b[38;5;66;03m#Generate Excel file\u001b[39;00m\n\u001b[0;32m     88\u001b[0m     \u001b[38;5;66;03m#img_files_dir = 'C:/DATA/6_ML_Patches/ML_Patches/HighRanked/'\u001b[39;00m\n\u001b[0;32m     89\u001b[0m     \u001b[38;5;66;03m#img_files_dir = 'C:/DATA/6_ML_Patches/ML_Patches/LowRanked/'\u001b[39;00m\n\u001b[0;32m     92\u001b[0m     f \u001b[38;5;241m=\u001b[39m []\n\u001b[1;32m---> 93\u001b[0m     \u001b[38;5;28;01mfor\u001b[39;00m (dirpath, dirnames, filenames) \u001b[38;5;129;01min\u001b[39;00m walk(input_DIR):\n\u001b[0;32m     94\u001b[0m         \u001b[38;5;66;03m#print(\"Processing \"+filenames)\u001b[39;00m\n\u001b[0;32m     95\u001b[0m         f\u001b[38;5;241m.\u001b[39mextend(filenames)\n\u001b[0;32m     96\u001b[0m         \u001b[38;5;28;01mbreak\u001b[39;00m\n",
      "File \u001b[1;32m<frozen os>:343\u001b[0m, in \u001b[0;36mwalk\u001b[1;34m(top, topdown, onerror, followlinks)\u001b[0m\n",
      "\u001b[1;31mTypeError\u001b[0m: expected str, bytes or os.PathLike object, not ROI_Generator"
     ]
    }
   ],
   "source": [
    "#input_DIR = 'C:/Users/WXC4/ExampleData/patch_extdata/png_files/washu-aperio-007-0'\n",
    "#input_DIR = 'C:/Users/WXC4/OneDrive - FDA/Shared Documents/Research/Digital Pathology/007 Seyed_SyntheticNucleiSegmentation_RepGenAI_ML/19_RST/ROIs'\n",
    "input_DIR = 'C:/Users/WXC4/ExampleData/ROIs'\n",
    "output_DIR = 'C:/Users/WXC4/ExampleData'\n",
    "file_Name = 'mapfileTEST.csv'\n",
    "ROI_Generator = ROI_Generator()\n",
    "ROI_Generator.generate_map_file(input_DIR,output_DIR,file_Name)"
   ]
  },
  {
   "cell_type": "markdown",
   "id": "0bbb36ef",
   "metadata": {},
   "source": [
    "## Generate ROIs"
   ]
  },
  {
   "cell_type": "code",
   "execution_count": 4,
   "id": "e20b842c",
   "metadata": {},
   "outputs": [
    {
     "name": "stdout",
     "output_type": "stream",
     "text": [
      "BA-09-85 HE\n",
      "BA-11-07 1A HE\n",
      "BA-13-13 HE\n",
      "BA-17-44 HE\n",
      "BA-24-78\n",
      "BA-31-51 A\n",
      "aperio-004-0\n",
      "aperio-018-0\n",
      "aperio-020-0\n",
      "aperio-022-0\n",
      "aperio-025-0\n",
      "aperio-031-0\n",
      "aperio-051-0\n",
      "aperio-052-0\n",
      "aperio-072-0\n",
      "aperio-074-0\n",
      "aperio-081-0\n",
      "aperio-109-0\n",
      "aperio-122-0\n",
      "aperio-130-0\n",
      "aperio-134-0\n",
      "aperio-135-0\n",
      "aperio-142-0\n"
     ]
    }
   ],
   "source": [
    "input_DIR = 'C:/DATA/6_ML_Patches/'\n",
    "file_Name = 'coordinatesTEST.csv'\n",
    "path_size= 255\n",
    "ROI_output_DIR =r'C:/DATA/temp/ForPathologistReview_TEST/'\n",
    "tag_name = 'HighRanked'\n",
    "\n",
    "ROI_Generator = ROI_Generator()\n",
    "\n",
    "\n",
    "ROI_Generator.create_xml(input_DIR,file_Name,path_size ,ROI_output_DIR,tag_name)"
   ]
  },
  {
   "cell_type": "code",
   "execution_count": null,
   "id": "43e74393",
   "metadata": {},
   "outputs": [],
   "source": []
  }
 ],
 "metadata": {
  "kernelspec": {
   "display_name": "Python 3 (ipykernel)",
   "language": "python",
   "name": "python3"
  },
  "language_info": {
   "codemirror_mode": {
    "name": "ipython",
    "version": 3
   },
   "file_extension": ".py",
   "mimetype": "text/x-python",
   "name": "python",
   "nbconvert_exporter": "python",
   "pygments_lexer": "ipython3",
   "version": "3.11.5"
  }
 },
 "nbformat": 4,
 "nbformat_minor": 5
}

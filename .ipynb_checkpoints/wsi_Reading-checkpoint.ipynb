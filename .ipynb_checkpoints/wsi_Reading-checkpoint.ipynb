{
 "cells": [
  {
   "cell_type": "markdown",
   "id": "f785527b",
   "metadata": {},
   "source": [
    "# Reading and Visualizing Whole Slide Images\n",
    "\n",
    "Click to open in:  \\[[GitHub](https://github.com/DIDSR/wsi_processing_toolbox)\\]"
   ]
  },
  {
   "cell_type": "markdown",
   "id": "7b6e0818",
   "metadata": {},
   "source": [
    "## What is this Notebook?\n",
    "\n",
    "This Jupyter notebook is designed for accessibility and convenience, as it can be executed on any computer via a standard web browser without the need to install any programming language beforehand. Thanks to Google Colaboratory's capabilities, it can be run remotely over the Internet, completely free of charge. To initiate a session with Colab, click on either of the two blue checkboxes above, ensuring that \"colab\" is visible in the address bar. If a left click doesn't activate the function for you, right-click on \"Open in Colab\" and select \"Open in new tab\". Please take a moment to familiarize yourself with the drop-down menus located near the top of the window. These will enable you to edit the notebook during the session. For instance, you might choose to replace the image files used in this demo with your own, or to experiment with different function parameters. It's important to note that the original version of this notebook on GitHub or Colab cannot be permanently altered by a regular user, so you need not worry about inadvertently making irreversible changes.\n",
    "\n",
    "If you wish to save any modifications you make to this notebook, navigate to the notebook's File Menu.\n",
    "\n",
    "In case you'd like to operate this notebook on a platform other than Colab, you'll need to configure your Python environment as outlined in the README file."
   ]
  },
  {
   "cell_type": "markdown",
   "id": "8b6d6de7",
   "metadata": {},
   "source": [
    "## WSI Reader Demo\n",
    "This demonstration guides you through the process of utilizing tiatoolbox to interact with a whole slide image (WSI). The objective is to provide you with an understanding of how to load a WSI, extract relevant information, and subsequently retrieve image patches.\n",
    "\n",
    "In the first part of this demo, we focus on loading a sample WSI. This involves utilizing tiatoolbox's built-in functions to successfully read the image file. These functions are designed to handle the complexities of WSI files, which can be vast and multi-layered, ensuring that the image is loaded accurately and efficiently.\n",
    "\n",
    "After successfully loading the WSI, we proceed to extract key information about the image. This involves identifying and logging characteristics such as the slide's dimensions, the number of image layers, and the magnification levels. By understanding these attributes, we can more effectively analyze the slide and extract relevant sections for further study.\n",
    "\n",
    "The next stage of this demonstration involves extracting image patches from the loaded WSI. We achieve this through using tiatoolbox's patch extraction functions. This is a critical step as it enables us to focus on specific areas of the slide, which can then be subjected to detailed analysis.\n",
    "\n",
    "To conclude, we delve into specific modules of the tiatoolbox software. We examine the wsireader module in greater detail, discussing its role in loading WSIs and the methods it provides for interacting with these images. We also examine the slide_info module, discussing how it enables the extraction of key information from a slide.\n",
    "\n",
    "Throughout this demonstration, we'll show you how to use the tiatoolbox's capabilities to perform a range of tasks on WSIs, from the basic reading of the image to the extraction and detailed analysis of specific sections. This demo should provide you with a solid foundation for working with whole slide images using the tiatoolbox."
   ]
  },
  {
   "cell_type": "markdown",
   "id": "05549f48",
   "metadata": {},
   "source": [
    "## Environment Configuration\n",
    "### Installation of SliePro and related dependencies\n",
    "\n",
    "If you're not utilizing Google Colab as your platform, or if this isn't your first time running the notebook during the current runtime session on Colab, you can bypass the next cell. If you choose to run it regardless, you might encounter an error message; however, this won't negatively impact your session. On Google Colab, this cell is responsible for installing tiatoolbox and other required software. Should you encounter any error messages, they are likely harmless and can be disregarded.\n",
    "\n",
    "If you're running this notebook outside of Colab, it is assumed that tiatoolbox is already installed in your environment. If this is not the case, please refer to the installation instructions provided in our README file."
   ]
  },
  {
   "cell_type": "code",
   "execution_count": 12,
   "id": "d3946731",
   "metadata": {},
   "outputs": [
    {
     "name": "stdout",
     "output_type": "stream",
     "text": [
      "Installation is done.\n"
     ]
    }
   ],
   "source": [
    "#!apt-get -y install libopenjp2-7-dev libopenjp2-tools openslide-tools | tail --line 1\n",
    "#!pip install tiatoolbox | tail --line 1\n",
    "\n",
    "print(\"Installation is done.\")"
   ]
  },
  {
   "cell_type": "markdown",
   "id": "373bc152",
   "metadata": {},
   "source": [
    "### Cleaning up residual files from prior sessions\n",
    "The following cell is designed to delete the 'tmp' directory, assuming it exists due to an earlier run of this notebook. If this is your initial run, you can disregard this step."
   ]
  },
  {
   "cell_type": "code",
   "execution_count": 13,
   "id": "bb107319",
   "metadata": {},
   "outputs": [],
   "source": [
    "#![ -d 'dataset/images' ] && ( echo \"deleting tmp directory\"; rm -rf 'dataset/images' )"
   ]
  },
  {
   "cell_type": "markdown",
   "id": "d5a2ed7e",
   "metadata": {},
   "source": [
    "## Read Whole Slide Image\n",
    "### Loading Necessary Libraries\n",
    "This step involves importing various Python modules that are needed for our analysis.\n",
    "\n"
   ]
  },
  {
   "cell_type": "code",
   "execution_count": 16,
   "id": "f6af6fd6",
   "metadata": {},
   "outputs": [],
   "source": [
    "import os\n",
    "from glob import glob\n",
    "from readwsi.readwsi import ReadWsi"
   ]
  },
  {
   "cell_type": "markdown",
   "id": "58d5c23a",
   "metadata": {},
   "source": [
    "### Note:\n",
    "    if you had an dll error for reading openslide dll ('libopenslide-0.dll') you can set this line before import openslide:"
   ]
  },
  {
   "cell_type": "code",
   "execution_count": 17,
   "id": "aa4d0755",
   "metadata": {},
   "outputs": [],
   "source": [
    "#import os\n",
    "#os.environ['path'] =\"...\\\\openslide...\\\\bin\"+\";\"+os.environ['path']"
   ]
  },
  {
   "cell_type": "markdown",
   "id": "de46759f",
   "metadata": {},
   "source": [
    "### Set up wsi path and reading the file"
   ]
  },
  {
   "cell_type": "code",
   "execution_count": 18,
   "id": "c21bec01",
   "metadata": {},
   "outputs": [
    {
     "name": "stdout",
     "output_type": "stream",
     "text": [
      "['C:\\\\Users\\\\SeyedM.MousaviKahaki\\\\Documents\\\\slidepro\\\\dataset\\\\aperio-002-0.svs']\n"
     ]
    }
   ],
   "source": [
    "dir_file = os.getcwd()\n",
    "WSIs_ = glob(dir_file + '\\\\dataset\\\\aperio-002-0.svs')\n",
    "print(WSIs_)"
   ]
  },
  {
   "cell_type": "markdown",
   "id": "d529af0e",
   "metadata": {},
   "source": [
    "### Use of wsi_reader function for reading the file "
   ]
  },
  {
   "cell_type": "code",
   "execution_count": 20,
   "id": "02d16766",
   "metadata": {},
   "outputs": [],
   "source": [
    "wsi_obj =ReadWsi.wsi_reader(dir_file+ '\\\\dataset\\\\aperio-002-0.svs')\n",
    "#wsi_obj =ReadWsi.wsi_reader('C:/DATA/0_Washu-Aperio/aperio-117-0.svs')"
   ]
  },
  {
   "cell_type": "markdown",
   "id": "9bd9efed",
   "metadata": {},
   "source": [
    "### 4.Check the WSI object  :"
   ]
  },
  {
   "cell_type": "code",
   "execution_count": 21,
   "id": "a0005cb8",
   "metadata": {},
   "outputs": [
    {
     "name": "stdout",
     "output_type": "stream",
     "text": [
      "OpenSlide('C:\\\\Users\\\\SeyedM.MousaviKahaki\\\\Documents\\\\slidepro\\\\dataset\\\\aperio-002-0.svs')\n",
      "((123503, 38380), (30875, 9595), (7718, 2398), (3859, 1199))\n"
     ]
    }
   ],
   "source": [
    "print(wsi_obj)\n",
    "print(wsi_obj.level_dimensions)"
   ]
  },
  {
   "cell_type": "markdown",
   "id": "0e53495a",
   "metadata": {},
   "source": [
    "### plot the file :\n",
    "\n",
    "Set Up Plotting\n",
    "Here we import matplotlib and set some options for plotting results to make the output look nice."
   ]
  },
  {
   "cell_type": "code",
   "execution_count": 6,
   "id": "0183e021",
   "metadata": {},
   "outputs": [],
   "source": [
    "import matplotlib.pyplot as plt\n",
    "import matplotlib as mpl\n",
    "\n",
    "mpl.rcParams[\"figure.dpi\"] = 150  # for high resolution figure in notebook\n",
    "mpl.rcParams[\"figure.facecolor\"] = \"white\"  # To make sure text is visible in dark mode\n",
    "plt.rcParams.update({\"font.size\": 5})"
   ]
  },
  {
   "cell_type": "code",
   "execution_count": 7,
   "id": "8b4e1712",
   "metadata": {},
   "outputs": [
    {
     "name": "stdout",
     "output_type": "stream",
     "text": [
      "(2220, 2967)\n"
     ]
    },
    {
     "data": {
      "image/png": "[encoded data removed]",
      "text/plain": [
       "<Figure size 432x288 with 1 Axes>"
      ]
     },
     "metadata": {
      "needs_background": "light"
     },
     "output_type": "display_data"
    }
   ],
   "source": [
    "import matplotlib.pyplot as plt\n",
    "import numpy as np\n",
    "file =wsi_obj.read_region((0, 0),1,wsi_obj.level_dimensions[0]).convert('RGB')\n",
    "print(file.size)\n",
    "plt.imshow(np.asarray(file).astype(np.uint32), cmap='gray')\n",
    "plt.show()"
   ]
  },
  {
   "cell_type": "markdown",
   "id": "59936b7f",
   "metadata": {},
   "source": [
    "## use of patch extraction function "
   ]
  },
  {
   "cell_type": "code",
   "execution_count": 10,
   "id": "e3e18189",
   "metadata": {},
   "outputs": [
    {
     "name": "stdout",
     "output_type": "stream",
     "text": [
      "C:\\Users\\SeyedM.MousaviKahaki\\Documents\\slidepro\\input_output\\\n",
      "The number of levels in the tiles object are:  13\n",
      "The dimensions of data in each level are:  ((1, 1), (2, 2), (3, 3), (5, 6), (9, 12), (18, 24), (35, 47), (70, 93), (139, 186), (278, 371), (555, 742), (1110, 1484), (2220, 2967))\n",
      "Total number of tiles = :  160\n",
      "12\n",
      "C:\\Users\\SeyedM.MousaviKahaki\\Documents\\slidepro\\input_output\\images/saved_tiles/ folder already exists.\n",
      "created folder :  C:\\Users\\SeyedM.MousaviKahaki\\Documents\\slidepro\\input_output\\images/saved_tiles/original_tiles/\n",
      "created folder :  C:\\Users\\SeyedM.MousaviKahaki\\Documents\\slidepro\\input_output\\images/saved_tiles/normalized_tiles/\n",
      "created folder :  C:\\Users\\SeyedM.MousaviKahaki\\Documents\\slidepro\\input_output\\images/saved_tiles/H_tiles/\n",
      "created folder :  C:\\Users\\SeyedM.MousaviKahaki\\Documents\\slidepro\\input_output\\images/saved_tiles/E_tiles/\n"
     ]
    }
   ],
   "source": [
    "print(dir_file+ '\\\\input_output\\\\')\n",
    "#tile = ReadWsi.patch_extraction(wsi_obj,256,dir_file+ '\\\\Output\\\\')\n",
    "#plt.imshow(tile)\n",
    "\n",
    "\n",
    "\n",
    "# patch_extraction (openslide_object , patch size , path for saving patches , perform_segmentation_state , random_state)\n",
    "tile = ReadWsi.patch_extraction(wsi_obj,256,dir_file+ '\\\\input_output\\\\',True,True)\n",
    "#plt.imshow(tile)"
   ]
  },
  {
   "cell_type": "code",
   "execution_count": 11,
   "id": "35ac138b",
   "metadata": {},
   "outputs": [
    {
     "name": "stdout",
     "output_type": "stream",
     "text": [
      "The number of levels in the tiles object are:  13\n",
      "The dimensions of data in each level are:  ((1, 1), (2, 2), (3, 3), (5, 6), (9, 12), (18, 24), (35, 47), (70, 93), (139, 186), (278, 371), (555, 742), (1110, 1484), (2220, 2967))\n",
      "Total number of tiles = :  160\n",
      "((1, 1), (1, 1), (1, 1), (1, 1), (1, 1), (1, 1), (1, 1), (1, 1), (1, 1), (2, 2), (3, 3), (5, 6), (9, 12))\n",
      "C:\\Users\\SeyedM.MousaviKahaki\\Documents\\slidepro\\input_output\\images/saved_tiles/original_tiles/ folder already exists.\n",
      "C:\\Users\\SeyedM.MousaviKahaki\\Documents\\slidepro\\input_output\\images/saved_tiles/normalized_tiles/ folder already exists.\n",
      "C:\\Users\\SeyedM.MousaviKahaki\\Documents\\slidepro\\input_output\\images/saved_tiles/H_tiles/ folder already exists.\n",
      "C:\\Users\\SeyedM.MousaviKahaki\\Documents\\slidepro\\input_output\\images/saved_tiles/E_tiles/ folder already exists.\n",
      "NOT PROCESSING TILE: 0_0\n",
      "NOT PROCESSING TILE: 1_0\n",
      "NOT PROCESSING TILE: 2_0\n",
      "Processing tile number: 3_0\n",
      "Processing tile number: 4_0\n",
      "NOT PROCESSING TILE: 5_0\n",
      "NOT PROCESSING TILE: 6_0\n",
      "NOT PROCESSING TILE: 7_0\n",
      "NOT PROCESSING TILE: 8_0\n",
      "NOT PROCESSING TILE: 0_1\n",
      "NOT PROCESSING TILE: 1_1\n",
      "NOT PROCESSING TILE: 2_1\n",
      "Processing tile number: 3_1\n",
      "Processing tile number: 4_1\n",
      "Processing tile number: 5_1\n",
      "NOT PROCESSING TILE: 6_1\n",
      "NOT PROCESSING TILE: 7_1\n",
      "NOT PROCESSING TILE: 8_1\n",
      "NOT PROCESSING TILE: 0_2\n",
      "NOT PROCESSING TILE: 1_2\n",
      "NOT PROCESSING TILE: 2_2\n",
      "Processing tile number: 3_2\n",
      "Processing tile number: 4_2\n",
      "Processing tile number: 5_2\n",
      "Processing tile number: 6_2\n",
      "NOT PROCESSING TILE: 7_2\n",
      "NOT PROCESSING TILE: 8_2\n",
      "NOT PROCESSING TILE: 0_3\n",
      "NOT PROCESSING TILE: 1_3\n",
      "NOT PROCESSING TILE: 2_3\n",
      "Processing tile number: 3_3\n",
      "Processing tile number: 4_3\n",
      "Processing tile number: 5_3\n",
      "Processing tile number: 6_3\n",
      "NOT PROCESSING TILE: 7_3\n",
      "NOT PROCESSING TILE: 8_3\n",
      "NOT PROCESSING TILE: 0_4\n",
      "Processing tile number: 1_4\n",
      "Processing tile number: 2_4\n",
      "Processing tile number: 3_4\n",
      "Processing tile number: 4_4\n",
      "Processing tile number: 5_4\n",
      "Processing tile number: 6_4\n",
      "NOT PROCESSING TILE: 7_4\n",
      "NOT PROCESSING TILE: 8_4\n",
      "NOT PROCESSING TILE: 0_5\n",
      "NOT PROCESSING TILE: 1_5\n",
      "NOT PROCESSING TILE: 2_5\n",
      "Processing tile number: 3_5\n",
      "Processing tile number: 4_5\n",
      "Processing tile number: 5_5\n",
      "Processing tile number: 6_5\n",
      "Processing tile number: 7_5\n",
      "NOT PROCESSING TILE: 8_5\n",
      "NOT PROCESSING TILE: 0_6\n",
      "NOT PROCESSING TILE: 1_6\n",
      "NOT PROCESSING TILE: 2_6\n",
      "Processing tile number: 3_6\n",
      "Processing tile number: 4_6\n",
      "Processing tile number: 5_6\n",
      "Processing tile number: 6_6\n",
      "NOT PROCESSING TILE: 7_6\n",
      "NOT PROCESSING TILE: 8_6\n",
      "NOT PROCESSING TILE: 0_7\n",
      "NOT PROCESSING TILE: 1_7\n",
      "NOT PROCESSING TILE: 2_7\n",
      "Processing tile number: 3_7\n",
      "Processing tile number: 4_7\n",
      "Processing tile number: 5_7\n",
      "Processing tile number: 6_7\n",
      "NOT PROCESSING TILE: 7_7\n",
      "NOT PROCESSING TILE: 8_7\n",
      "NOT PROCESSING TILE: 0_8\n",
      "NOT PROCESSING TILE: 1_8\n",
      "NOT PROCESSING TILE: 2_8\n",
      "Processing tile number: 3_8\n",
      "Processing tile number: 4_8\n",
      "Processing tile number: 5_8\n",
      "Processing tile number: 6_8\n",
      "Processing tile number: 7_8\n",
      "NOT PROCESSING TILE: 8_8\n",
      "NOT PROCESSING TILE: 0_9\n",
      "NOT PROCESSING TILE: 1_9\n",
      "Processing tile number: 2_9\n",
      "Processing tile number: 3_9\n",
      "Processing tile number: 4_9\n",
      "Processing tile number: 5_9\n",
      "Processing tile number: 6_9\n",
      "Processing tile number: 7_9\n",
      "NOT PROCESSING TILE: 8_9\n",
      "NOT PROCESSING TILE: 0_10\n",
      "NOT PROCESSING TILE: 1_10\n",
      "Processing tile number: 2_10\n",
      "Processing tile number: 3_10\n",
      "Processing tile number: 4_10\n",
      "Processing tile number: 5_10\n",
      "Processing tile number: 6_10\n",
      "NOT PROCESSING TILE: 7_10\n",
      "NOT PROCESSING TILE: 8_10\n",
      "NOT PROCESSING TILE: 0_11\n",
      "NOT PROCESSING TILE: 1_11\n",
      "Processing tile number: 2_11\n",
      "Processing tile number: 3_11\n",
      "Processing tile number: 4_11\n",
      "Processing tile number: 5_11\n",
      "Processing tile number: 6_11\n",
      "NOT PROCESSING TILE: 7_11\n",
      "NOT PROCESSING TILE: 8_11\n"
     ]
    }
   ],
   "source": [
    "ReadWsi.patch_extraction_with_normalized_tiles(wsi_obj,256,dir_file+ '\\\\input_output\\\\',True,True)"
   ]
  },
  {
   "cell_type": "code",
   "execution_count": null,
   "id": "788751c9",
   "metadata": {},
   "outputs": [],
   "source": []
  },
  {
   "cell_type": "code",
   "execution_count": null,
   "id": "cc1a0f0b",
   "metadata": {},
   "outputs": [],
   "source": []
  }
 ],
 "metadata": {
  "celltoolbar": "Edit Metadata",
  "kernelspec": {
   "display_name": "Python 3",
   "language": "python",
   "name": "python3"
  },
  "language_info": {
   "codemirror_mode": {
    "name": "ipython",
    "version": 3
   },
   "file_extension": ".py",
   "mimetype": "text/x-python",
   "name": "python",
   "nbconvert_exporter": "python",
   "pygments_lexer": "ipython3",
   "version": "3.8.8"
  }
 },
 "nbformat": 4,
 "nbformat_minor": 5
}

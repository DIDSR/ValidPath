{
 "cells": [
  {
   "cell_type": "code",
   "execution_count": 2,
   "id": "145eb57d",
   "metadata": {},
   "outputs": [
    {
     "name": "stdout",
     "output_type": "stream",
     "text": [
      "1 4\n",
      "(4374, 3843, 3)\n"
     ]
    },
    {
     "name": "stderr",
     "output_type": "stream",
     "text": [
      "C:\\Users\\masoud\\AppData\\Local\\Temp\\ipykernel_5704\\883262316.py:34: UserWarning: C:\\Users\\masoud\\data\\20181218042458\\gray.png is a low contrast image\n",
      "  io.imsave(os.path.join(output_dir,\"gray.png\"), gray_img.astype(np.uint8))\n"
     ]
    }
   ],
   "source": [
    "import os, sys\n",
    "import shutil\n",
    "import numpy as np\n",
    "from skimage import io, color  \n",
    "import cv2\n",
    "import os\n",
    "\n",
    "\n",
    "OPENSLIDE_PATH = r'D:\\openslide-win64-20171122\\bin'            # OPENSLIDE BIN PATH\n",
    "os.add_dll_directory(OPENSLIDE_PATH)\n",
    "\n",
    "TEST_PATH = os.path.abspath(os.path.dirname(r'C:\\Users\\masoud\\data'))   #root directory path\n",
    "PRJ_PATH = os.path.dirname(TEST_PATH)\n",
    "sys.path.insert(0, PRJ_PATH)\n",
    "\n",
    "from tissueloc.load_slide import select_slide_level\n",
    "from tissueloc.load_slide import load_slide_img\n",
    "from tissueloc.locate_tissue import thresh_slide, fill_tissue_holes\n",
    "from tissueloc.locate_tissue import remove_small_tissue, find_tissue_cnts\n",
    "from tissueloc.locate_tissue import locate_tissue_cnts\n",
    "\n",
    "\n",
    "def test_locate_tissue_seperately():\n",
    "    slide_path = r\"C:\\Users\\masoud\\data\\JP2.svs\"                                      #SVS FILE PATH\n",
    "    output_dir = os.path.join(TEST_PATH, r\"C:\\Users\\masoud\\data\\20181218042458\")      #OUTPUT PATH\n",
    "    max_size = 10240\n",
    "    # Step 1: Select the proper level\n",
    "    s_level, d_factor = select_slide_level(slide_path, max_size)\n",
    "    print(s_level, d_factor)\n",
    "    #     # Step 2: Load Slide image with selected level\n",
    "    slide_img = load_slide_img(slide_path, s_level)\n",
    "    print(slide_img.shape)\n",
    "    io.imsave(os.path.join(output_dir, \"ori.png\"), slide_img)\n",
    "#     # Step 3: Convert color image to gray\n",
    "    gray_img = color.rgb2gray(slide_img)\n",
    "    io.imsave(os.path.join(output_dir,\"gray.png\"), gray_img.astype(np.uint8))\n",
    "    thresh_val = 0.8\n",
    "    bw_img = thresh_slide(gray_img, thresh_val)\n",
    "    io.imsave(os.path.join(output_dir,\"bw.png\"), (bw_img*255.0).astype(np.uint8))\n",
    "     # Step 5: Fill tissue holes\n",
    "    bw_fill = fill_tissue_holes(bw_img)\n",
    "    io.imsave(os.path.join(output_dir,\"fill.png\"), (bw_fill*255.0).astype(np.uint8))\n",
    "#     # Step 6: Remove small tissues\n",
    "    min_size = 10240\n",
    "    bw_remove = remove_small_tissue(bw_fill, min_size)\n",
    "    io.imsave(os.path.join(output_dir,\"remove.png\"), (bw_remove*255.0).astype(np.uint8))\n",
    "#     # Step 7: Locate tissue regions\n",
    "    cnts = find_tissue_cnts(bw_remove)\n",
    "    slide_img = np.ascontiguousarray(slide_img, dtype=np.uint8)\n",
    "    cv2.drawContours(slide_img, cnts, -1, (0, 255, 0), 9)\n",
    "    io.imsave(os.path.join(output_dir,'cnt.png'), slide_img)\n",
    "    \n",
    "test_locate_tissue_seperately()"
   ]
  },
  {
   "cell_type": "code",
   "execution_count": 3,
   "id": "5453991f",
   "metadata": {},
   "outputs": [
    {
     "name": "stdout",
     "output_type": "stream",
     "text": [
      "Downsampling fator is: 4\n",
      "There are 1 contours in the slide.\n",
      "(9209, 1, 2)\n",
      "[[[2336  595]]\n",
      "\n",
      " [[2335  596]]\n",
      "\n",
      " [[2334  596]]\n",
      "\n",
      " [[2333  596]]\n",
      "\n",
      " [[2332  596]]]\n"
     ]
    }
   ],
   "source": [
    "def test_locate_tissue():\n",
    "    slide_path = r\"C:\\Users\\masoud\\data\\JP2.svs\"              # svs path\n",
    "    # locate tissue contours with default parameters\n",
    "    cnts, d_factor = locate_tissue_cnts(slide_path,\n",
    "                                        max_img_size=16384,\n",
    "                                        smooth_sigma=13,\n",
    "                                        thresh_val=0.80,\n",
    "                                        min_tissue_size=100000)\n",
    "    print(\"Downsampling fator is: {}\".format(d_factor))\n",
    "    print(\"There are {} contours in the slide.\".format(len(cnts)))\n",
    "    print(cnts[0].shape)\n",
    "    print(cnts[0][:5])\n",
    "    \n",
    "    \n",
    "test_locate_tissue()"
   ]
  }
 ],
 "metadata": {
  "kernelspec": {
   "display_name": "Python 3",
   "language": "python",
   "name": "python3"
  },
  "language_info": {
   "codemirror_mode": {
    "name": "ipython",
    "version": 3
   },
   "file_extension": ".py",
   "mimetype": "text/x-python",
   "name": "python",
   "nbconvert_exporter": "python",
   "pygments_lexer": "ipython3",
   "version": "3.8.8"
  }
 },
 "nbformat": 4,
 "nbformat_minor": 5
}

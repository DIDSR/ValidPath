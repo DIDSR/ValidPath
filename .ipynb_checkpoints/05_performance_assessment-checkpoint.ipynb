{
 "cells": [
  {
   "cell_type": "markdown",
   "id": "866dc4ef",
   "metadata": {},
   "source": [
    "# Assessment\n",
    "\n",
    "Click to open in:  \\[[GitHub](https://github.com/DIDSR/wsi_processing_toolbox/05_performance_assessment.ipynb)\\]\n",
    "\n",
    "Developer: Seyed.kahaki@fda.hhs.gov"
   ]
  },
  {
   "cell_type": "markdown",
   "id": "c9ac3e0e",
   "metadata": {},
   "source": [
    "## About this notebook\n",
    "This jupyter notebook can be run on any computer with a standard browser and no prior installation of any programming language is required."
   ]
  },
  {
   "cell_type": "markdown",
   "id": "a74acc53",
   "metadata": {},
   "source": [
    "### About\n",
    "\n",
    "This demonstration guides you through the process of using WSIToolbox to for performance evaluation of ML models. This is enabled using the get_report method of the UncertaintyAnalysis class in the WSIToolbox. The input to this method are the probability results of the ML model as well as the truth values."
   ]
  },
  {
   "cell_type": "markdown",
   "id": "2c67cb96",
   "metadata": {},
   "source": []
  },
  {
   "cell_type": "markdown",
   "id": "f84d5598",
   "metadata": {},
   "source": [
    "\n",
    "1. At the first you should import some packages that you need ."
   ]
  },
  {
   "cell_type": "code",
   "execution_count": 1,
   "id": "53c9347e",
   "metadata": {},
   "outputs": [],
   "source": [
    "import numpy as np\n",
    "import pandas as pd\n",
    "from assessment.uncertainty import Uncertainty_Analysis\n",
    "UncertaintyAnalysis = Uncertainty_Analysis()"
   ]
  },
  {
   "cell_type": "code",
   "execution_count": 3,
   "id": "f78c9c41",
   "metadata": {},
   "outputs": [
    {
     "name": "stdout",
     "output_type": "stream",
     "text": [
      "please enter xls file path, for example ./data/ResultsExample.xlsx: \n",
      "Do you want to perform Bootsrap? (1 = Yes ,  0 = No)\n",
      "Do you want to get AUC based on Delong method, for example 100:\n",
      "Do you want to plot ROC curve (1 = Yes ,  0 = No)\n",
      "Do you want to get AUC based on Delong method? (1 = Yes ,  0 = No)\n",
      "1\n",
      "Please enter a name for this results: \n",
      "####################\n",
      "Results for Test\n",
      "          pred:yes  pred:no\n",
      "true:yes       285       14\n",
      "true:no         79       32\n",
      "Precision:  0.782967032967033\n",
      "Precision_CI:  (0.7406191220140836, 0.8253149439199823)\n",
      "Recall:  0.9531772575250836\n",
      "Recall_CI:  (0.9292315454409011, 0.9771229696092661)\n",
      "Delong Method\n",
      "AUC: 0.8234354756093887\n",
      "AUC COV: 0.0005619434162873773\n",
      "95% AUC CI: [0.77697385 0.8698971 ]\n",
      "Original ROC area: 0.823\n",
      "Bootstrap #1 ROC area: 0.763\n",
      "Bootstrap #2 ROC area: 0.816\n",
      "Bootstrap #3 ROC area: 0.790\n",
      "Bootstrap #4 ROC area: 0.829\n",
      "Bootstrap #5 ROC area: 0.855\n",
      "Bootstrap #6 ROC area: 0.785\n",
      "Bootstrap #7 ROC area: 0.825\n",
      "Bootstrap #8 ROC area: 0.832\n",
      "Bootstrap #9 ROC area: 0.831\n",
      "Bootstrap #10 ROC area: 0.823\n",
      "Bootstrap #11 ROC area: 0.836\n",
      "Bootstrap #12 ROC area: 0.835\n",
      "Bootstrap #13 ROC area: 0.828\n",
      "Bootstrap #14 ROC area: 0.822\n",
      "Bootstrap #15 ROC area: 0.827\n",
      "Bootstrap #16 ROC area: 0.780\n",
      "Bootstrap #17 ROC area: 0.812\n",
      "Bootstrap #18 ROC area: 0.778\n",
      "Bootstrap #19 ROC area: 0.842\n",
      "Bootstrap #20 ROC area: 0.773\n",
      "Bootstrap #21 ROC area: 0.834\n",
      "Bootstrap #22 ROC area: 0.830\n",
      "Bootstrap #23 ROC area: 0.831\n",
      "Bootstrap #24 ROC area: 0.856\n",
      "Bootstrap #25 ROC area: 0.836\n",
      "Bootstrap #26 ROC area: 0.798\n",
      "Bootstrap #27 ROC area: 0.813\n",
      "Bootstrap #28 ROC area: 0.825\n",
      "Bootstrap #29 ROC area: 0.847\n",
      "Bootstrap #30 ROC area: 0.823\n",
      "Bootstrap #31 ROC area: 0.811\n",
      "Bootstrap #32 ROC area: 0.869\n",
      "Bootstrap #33 ROC area: 0.841\n",
      "Bootstrap #34 ROC area: 0.820\n",
      "Bootstrap #35 ROC area: 0.810\n",
      "Bootstrap #36 ROC area: 0.806\n",
      "Bootstrap #37 ROC area: 0.822\n",
      "Bootstrap #38 ROC area: 0.867\n",
      "Bootstrap #39 ROC area: 0.830\n",
      "Bootstrap #40 ROC area: 0.803\n",
      "Bootstrap #41 ROC area: 0.783\n",
      "Bootstrap #42 ROC area: 0.863\n",
      "Bootstrap #43 ROC area: 0.822\n",
      "Bootstrap #44 ROC area: 0.822\n",
      "Bootstrap #45 ROC area: 0.802\n",
      "Bootstrap #46 ROC area: 0.849\n",
      "Bootstrap #47 ROC area: 0.823\n",
      "Bootstrap #48 ROC area: 0.861\n",
      "Bootstrap #49 ROC area: 0.813\n",
      "Bootstrap #50 ROC area: 0.829\n",
      "Bootstrap #51 ROC area: 0.818\n",
      "Bootstrap #52 ROC area: 0.785\n",
      "Bootstrap #53 ROC area: 0.758\n",
      "Bootstrap #54 ROC area: 0.805\n",
      "Bootstrap #55 ROC area: 0.849\n",
      "Bootstrap #56 ROC area: 0.803\n",
      "Bootstrap #57 ROC area: 0.817\n",
      "Bootstrap #58 ROC area: 0.825\n",
      "Bootstrap #59 ROC area: 0.830\n",
      "Bootstrap #60 ROC area: 0.805\n",
      "Bootstrap #61 ROC area: 0.813\n",
      "Bootstrap #62 ROC area: 0.846\n",
      "Bootstrap #63 ROC area: 0.836\n",
      "Bootstrap #64 ROC area: 0.793\n",
      "Bootstrap #65 ROC area: 0.808\n",
      "Bootstrap #66 ROC area: 0.857\n",
      "Bootstrap #67 ROC area: 0.760\n",
      "Bootstrap #68 ROC area: 0.853\n",
      "Bootstrap #69 ROC area: 0.840\n",
      "Bootstrap #70 ROC area: 0.787\n",
      "Bootstrap #71 ROC area: 0.823\n",
      "Bootstrap #72 ROC area: 0.856\n",
      "Bootstrap #73 ROC area: 0.847\n",
      "Bootstrap #74 ROC area: 0.819\n",
      "Bootstrap #75 ROC area: 0.816\n",
      "Bootstrap #76 ROC area: 0.818\n",
      "Bootstrap #77 ROC area: 0.836\n",
      "Bootstrap #78 ROC area: 0.803\n",
      "Bootstrap #79 ROC area: 0.846\n",
      "Bootstrap #80 ROC area: 0.834\n",
      "Bootstrap #81 ROC area: 0.838\n",
      "Bootstrap #82 ROC area: 0.827\n",
      "Bootstrap #83 ROC area: 0.806\n",
      "Bootstrap #84 ROC area: 0.831\n",
      "Bootstrap #85 ROC area: 0.823\n",
      "Bootstrap #86 ROC area: 0.845\n",
      "Bootstrap #87 ROC area: 0.837\n",
      "Bootstrap #88 ROC area: 0.789\n",
      "Bootstrap #89 ROC area: 0.742\n",
      "Bootstrap #90 ROC area: 0.841\n",
      "Bootstrap #91 ROC area: 0.845\n",
      "Bootstrap #92 ROC area: 0.823\n",
      "Bootstrap #93 ROC area: 0.815\n",
      "Bootstrap #94 ROC area: 0.810\n",
      "Bootstrap #95 ROC area: 0.822\n",
      "Bootstrap #96 ROC area: 0.796\n",
      "Bootstrap #97 ROC area: 0.832\n",
      "Bootstrap #98 ROC area: 0.830\n",
      "Bootstrap #99 ROC area: 0.816\n",
      "Bootstrap #100 ROC area: 0.813\n"
     ]
    },
    {
     "data": {
      "image/png": "[encoded data removed]",
      "text/plain": [
       "<Figure size 432x288 with 1 Axes>"
      ]
     },
     "metadata": {
      "needs_background": "light"
     },
     "output_type": "display_data"
    },
    {
     "name": "stdout",
     "output_type": "stream",
     "text": [
      "Bootstrap\n",
      "Confidence interval for the score: [0.778 - 0.857]\n"
     ]
    },
    {
     "data": {
      "image/png": "[encoded data removed]",
      "text/plain": [
       "<Figure size 432x288 with 1 Axes>"
      ]
     },
     "metadata": {
      "needs_background": "light"
     },
     "output_type": "display_data"
    }
   ],
   "source": [
    "xls_file =input(\"please enter xls file path, for example ./data/ResultsExample.xlsx: \") or \"./data/ResultsExample.xlsx\"\n",
    "\n",
    "perform_Bootstrap = int(input(r\"Do you want to perform Bootsrap? (1 = Yes ,  0 = No)\") or \"1\") \n",
    "if perform_Bootstrap==1 :\n",
    "    UncertaintyAnalysis.perform_Bootstrap= True\n",
    "elif perform_Bootstrap==0 :\n",
    "    UncertaintyAnalysis.perform_Bootstrap= False\n",
    "else:\n",
    "    print('Input sets incorrectly!')\n",
    "    \n",
    "if perform_Bootstrap==1 :\n",
    "    n_bootstraps = int(input(r\"Do you want to get AUC based on Delong method, for example 100:\") or \"100\")\n",
    "    UncertaintyAnalysis.n_bootstraps= n_bootstraps\n",
    "\n",
    "plot_roc = int(input(r\"Do you want to plot ROC curve (1 = Yes ,  0 = No)\") or \"1\")\n",
    "if plot_roc==1 :\n",
    "    UncertaintyAnalysis.plot_roc= True\n",
    "elif plot_roc==0 :\n",
    "    UncertaintyAnalysis.plot_roc= False\n",
    "else:\n",
    "    print('Input sets incorrectly!')\n",
    "    \n",
    "    \n",
    "perform_Delong = int(input(r\"Do you want to get AUC based on Delong method? (1 = Yes ,  0 = No)\") or \"1\")\n",
    "print(perform_Delong)\n",
    "if perform_Delong==1 :\n",
    "    UncertaintyAnalysis.perform_Delong= True\n",
    "elif perform_Delong==0 :\n",
    "    UncertaintyAnalysis.perform_Delong= False\n",
    "else:\n",
    "    print('Input sets incorrectly!')\n",
    "    \n",
    "\n",
    "UncertaintyAnalysis.tag = str(input(r\"Please enter a name for this results: \") or \"Test\")\n",
    "#loading file tnto dataframe\n",
    "df = pd.read_excel(xls_file)\n",
    "# print(\"\\n \",df)\n",
    "\n",
    "#define two list to save values\n",
    "y_pred=[]\n",
    "y_truth= []\n",
    "\n",
    "#extraction columns values \n",
    "for i in df.values:\n",
    "    y_truth.append(i[0])\n",
    "    y_pred.append(i[1])\n",
    "\n",
    "\n",
    "#convert list to ndarray\n",
    "y_pred = np.array(y_pred)\n",
    "y_truth = np.array(y_truth)\n",
    "\n",
    "Results = UncertaintyAnalysis.get_report(y_pred , y_truth)"
   ]
  },
  {
   "cell_type": "markdown",
   "id": "7ae90b8a",
   "metadata": {},
   "source": [
    "### Setting parameters manually"
   ]
  },
  {
   "cell_type": "code",
   "execution_count": null,
   "id": "b22d2ad7",
   "metadata": {},
   "outputs": [],
   "source": [
    "UncertaintyAnalysis.perform_Delong = True\n",
    "UncertaintyAnalysis.perform_Bootstrap = True\n",
    "UncertaintyAnalysis.plot_roc = True\n",
    "UncertaintyAnalysis.n_bootstraps = 100\n",
    "UncertaintyAnalysis.tag = 'My Results'"
   ]
  },
  {
   "cell_type": "code",
   "execution_count": null,
   "id": "1673fe74",
   "metadata": {},
   "outputs": [],
   "source": [
    "#For quick testing\n",
    "y_pred = np.array([0.21, 0.32, 0.63, 0.35, 0.92, 0.79, 0.82, 0.99, 0.04])\n",
    "y_truth= np.array([0,    1,    0,    0,    1,    1,    0,    1,   0  ])\n",
    "\n",
    "\n",
    "Results = UncertaintyAnalysis.get_report(y_pred , y_truth)\n"
   ]
  },
  {
   "cell_type": "code",
   "execution_count": null,
   "id": "8839fd9a",
   "metadata": {},
   "outputs": [],
   "source": [
    "#precision,Precision_CI,recall,Recall_CI, auc_delong ,auc_delong_cov ,ci_delong , fpr_keras, tpr_keras ,auc_keras ,cmtx = Results"
   ]
  }
 ],
 "metadata": {
  "kernelspec": {
   "display_name": "Python 3",
   "language": "python",
   "name": "python3"
  },
  "language_info": {
   "codemirror_mode": {
    "name": "ipython",
    "version": 3
   },
   "file_extension": ".py",
   "mimetype": "text/x-python",
   "name": "python",
   "nbconvert_exporter": "python",
   "pygments_lexer": "ipython3",
   "version": "3.8.8"
  }
 },
 "nbformat": 4,
 "nbformat_minor": 5
}

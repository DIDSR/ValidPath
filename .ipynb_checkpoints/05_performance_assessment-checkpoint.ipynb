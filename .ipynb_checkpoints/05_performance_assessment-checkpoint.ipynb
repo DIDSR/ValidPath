{
 "cells": [
  {
   "cell_type": "markdown",
   "id": "866dc4ef",
   "metadata": {},
   "source": [
    "# Assessment\n",
    "\n",
    "Click to open in:  \\[[GitHub](https://github.com/DIDSR/wsi_processing_toolbox/05_performance_assessment.ipynb)\\]\n",
    "\n",
    "Developer: Seyed.kahaki@fda.hhs.gov"
   ]
  },
  {
   "cell_type": "markdown",
   "id": "c9ac3e0e",
   "metadata": {},
   "source": [
    "## About this notebook\n",
    "This jupyter notebook can be run on any computer with a standard browser and no prior installation of any programming language is required."
   ]
  },
  {
   "cell_type": "markdown",
   "id": "a74acc53",
   "metadata": {},
   "source": [
    "### About\n",
    "\n",
    "Stain normalization is a common preprocessing step that aims to reduce color differences to a minimum that are not important in clinical practice.\n",
    "In digital pathology, in order to have better results with different scanners and different types of colors, normalization is used to reduce errors."
   ]
  },
  {
   "cell_type": "markdown",
   "id": "2c67cb96",
   "metadata": {},
   "source": [
    "### Setting up :\n",
    "You should install our package and import to your code , then use it ."
   ]
  },
  {
   "cell_type": "markdown",
   "id": "f84d5598",
   "metadata": {},
   "source": [
    "\n",
    "1. At the first you should import some packages that you need ."
   ]
  },
  {
   "cell_type": "code",
   "execution_count": 1,
   "id": "53c9347e",
   "metadata": {},
   "outputs": [],
   "source": [
    "import numpy as np\n",
    "import pandas as pd\n",
    "\n",
    "from assessment.uncertainty import Uncertainty_Analysis\n",
    "UncertaintyAnalysis = Uncertainty_Analysis()"
   ]
  },
  {
   "cell_type": "code",
   "execution_count": null,
   "id": "07901e0b",
   "metadata": {},
   "outputs": [],
   "source": [
    "xls_file =input(\"please enter xls file path ...\")\n",
    "\n",
    "plot_roc = int(input(r\"Do you want to plot ROC curve (1 = Yes ,  0 = No)\"))\n",
    "if plot_roc==1 :\n",
    "    plot_roc= True\n",
    "if plot_roc==0 :\n",
    "    plot_roc= False\n",
    "else:\n",
    "    print('plot_roc sets incorrectly!')\n",
    "\n",
    "tag = int(input(r\"Please enter a name for this results: \"))\n",
    "#loading file tnto dataframe\n",
    "df = pd.read_excel(xls_file)\n",
    "print(\"\\n \",df)\n",
    "\n",
    "#define two list to save values\n",
    "y_pred=[]\n",
    "y_truth= []\n",
    "\n",
    "#extraction columns values \n",
    "for i in df.values:\n",
    "    y_truth.append(i[0])\n",
    "    y_pred.append(i[1])\n",
    "\n",
    "\n",
    "#convert list to ndarray\n",
    "y_pred = np.array(y_pred)\n",
    "y_truth = np.array(y_truth)\n",
    "\n",
    "print(\"\\n\\n y_truth :\" ,y_truth)\n",
    "print(\" y_pred :\" ,y_pred)\n",
    "\n",
    "plot_roc = True\n",
    "tag = 'Test'\n",
    "\n",
    "Results = UncertaintyAnalysis.get_report(y_pred , y_truth, tag, plot_roc)"
   ]
  },
  {
   "cell_type": "code",
   "execution_count": null,
   "id": "d70be7a1",
   "metadata": {},
   "outputs": [],
   "source": [
    "precision,Precision_CI,recall,Recall_CI, auc_delong ,auc_delong_cov ,ci_delong , fpr_keras, tpr_keras ,auc_keras ,cmtx = Results"
   ]
  },
  {
   "cell_type": "markdown",
   "id": "7ae90b8a",
   "metadata": {},
   "source": [
    "### getting xls file path of user and reading the values"
   ]
  },
  {
   "cell_type": "code",
   "execution_count": null,
   "id": "7d143486",
   "metadata": {},
   "outputs": [],
   "source": []
  },
  {
   "cell_type": "code",
   "execution_count": null,
   "id": "c9a38d89",
   "metadata": {},
   "outputs": [],
   "source": [
    "# set inputs manually and run "
   ]
  },
  {
   "cell_type": "code",
   "execution_count": null,
   "id": "1673fe74",
   "metadata": {},
   "outputs": [],
   "source": [
    "#For quick testing\n",
    "y_pred = np.array([0.21, 0.32, 0.63, 0.35, 0.92, 0.79, 0.82, 0.99, 0.04])\n",
    "y_truth= np.array([0,    1,    0,    0,    1,    1,    0,    1,   0  ])\n",
    "plot_roc = True\n",
    "tag = 'Test'\n",
    "Results = UncertaintyAnalysis.get_report(y_pred , y_truth, tag, plot_roc)\n"
   ]
  },
  {
   "cell_type": "code",
   "execution_count": null,
   "id": "68775ccf",
   "metadata": {},
   "outputs": [],
   "source": [
    "# giving inputs of user and Prepare inputs and run   :"
   ]
  },
  {
   "cell_type": "code",
   "execution_count": 3,
   "id": "e2fa211e",
   "metadata": {},
   "outputs": [
    {
     "name": "stdout",
     "output_type": "stream",
     "text": [
      "Please Enter n samples like : 1, 0 , 1 , 1 , ... >>>>>>>1,2,3\n",
      "Please Enter Target scores like : 0.2 , 0.3 ,0.25 ,0.6 ,... >>>>>>> 1,1,1\n",
      "Do you want to plot ROC curve (1 = Yes ,  0 = No)1\n",
      "plot_roc sets incorrectly!\n",
      "Please enter a name for this results: test\n"
     ]
    },
    {
     "ename": "SyntaxError",
     "evalue": "'continue' not properly in loop (<ipython-input-3-048c3cfd3ad4>, line 29)",
     "output_type": "error",
     "traceback": [
      "\u001b[1;36m  File \u001b[1;32m\"<ipython-input-3-048c3cfd3ad4>\"\u001b[1;36m, line \u001b[1;32m29\u001b[0m\n\u001b[1;33m    continue\u001b[0m\n\u001b[1;37m    ^\u001b[0m\n\u001b[1;31mSyntaxError\u001b[0m\u001b[1;31m:\u001b[0m 'continue' not properly in loop\n"
     ]
    }
   ],
   "source": [
    "    y  = (input(\"Please Enter n samples like : 1, 0 , 1 , 1 , ... >>>>>>>\"))\n",
    "    y_pred = (input(\"Please Enter Target scores like : 0.2 , 0.3 ,0.25 ,0.6 ,... >>>>>>> \"))\n",
    "\n",
    "    plot_roc = int(input(r\"Do you want to plot ROC curve (1 = Yes ,  0 = No)\"))\n",
    "    if plot_roc==1 :\n",
    "        plot_roc= True\n",
    "    if plot_roc==0 :\n",
    "        plot_roc= False\n",
    "    else:\n",
    "        print('plot_roc sets incorrectly!')\n",
    "        \n",
    "    tag = str(input(r\"Please enter a name for this results: \"))\n",
    "    \n",
    "    # Prepare input\n",
    "    lst = list(y.split(','))\n",
    "    lst_y =[]\n",
    "    for i in lst :\n",
    "        lst_y.append(int(i))\n",
    "    lst_y = np.array(lst_y)\n",
    "\n",
    "    lst = list(y_pred.split(','))\n",
    "    lst_y_pred =[]\n",
    "    for i in lst :\n",
    "        lst_y_pred .append(float(i))\n",
    "    lst_y_pred =np.array(lst_y_pred)\n",
    "\n",
    "    if max(lst_y) >1 or min(lst_y)<0 :\n",
    "        print(\"\\n \\n Enter the inputs in binary form....\")\n",
    "        continue\n",
    "    \n",
    "    if len(lst_y) == len (lst_y_pred):\n",
    "        Results = UncertaintyAnalysis.get_report(y_pred , y_truth, tag, plot_roc)\n",
    "        break\n",
    "    else :\n",
    "        print(\"\\n \\n Error in numbers of samples that entered ... try again\")\n",
    "        continue"
   ]
  },
  {
   "cell_type": "markdown",
   "id": "200e898b",
   "metadata": {},
   "source": [
    "### note : If you don't want to plot the output, you can set False visualization \n",
    "\n",
    "in this situation returned an array of 14 values :\n",
    "(y_pred, y_test,tag,precision,Precision_CI,recall,Recall_CI, auc ,auc_cov ,ci , fpr_keras, tpr_keras ,auc_keras ,cmtx)\n"
   ]
  },
  {
   "cell_type": "code",
   "execution_count": null,
   "id": "6a1254c7",
   "metadata": {},
   "outputs": [],
   "source": [
    "Results = UncertaintyAnalysis.get_report(y_pred , y_truth, tag, plot_roc)"
   ]
  },
  {
   "cell_type": "code",
   "execution_count": null,
   "id": "fb6a16b6",
   "metadata": {},
   "outputs": [],
   "source": [
    "Results"
   ]
  },
  {
   "cell_type": "code",
   "execution_count": null,
   "id": "2cb894ed",
   "metadata": {},
   "outputs": [],
   "source": [
    "(precision,Precision_CI,recall,Recall_CI, auc_delong ,auc_delong_cov ,ci_delong , fpr_keras, tpr_keras ,auc_keras ,cmtx) = Results"
   ]
  },
  {
   "cell_type": "code",
   "execution_count": null,
   "id": "828f79af",
   "metadata": {},
   "outputs": [],
   "source": [
    "precision"
   ]
  },
  {
   "cell_type": "code",
   "execution_count": null,
   "id": "0dae79b9",
   "metadata": {},
   "outputs": [],
   "source": [
    "Precision_CI"
   ]
  },
  {
   "cell_type": "code",
   "execution_count": null,
   "id": "2cf90fe0",
   "metadata": {},
   "outputs": [],
   "source": []
  },
  {
   "cell_type": "code",
   "execution_count": null,
   "id": "afa3afb7",
   "metadata": {},
   "outputs": [],
   "source": []
  }
 ],
 "metadata": {
  "kernelspec": {
   "display_name": "Python 3",
   "language": "python",
   "name": "python3"
  },
  "language_info": {
   "codemirror_mode": {
    "name": "ipython",
    "version": 3
   },
   "file_extension": ".py",
   "mimetype": "text/x-python",
   "name": "python",
   "nbconvert_exporter": "python",
   "pygments_lexer": "ipython3",
   "version": "3.8.8"
  }
 },
 "nbformat": 4,
 "nbformat_minor": 5
}

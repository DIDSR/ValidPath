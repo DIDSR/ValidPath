{
 "cells": [
  {
   "cell_type": "markdown",
   "id": "7e4c621c",
   "metadata": {},
   "source": [
    "# ROI Generator\n",
    "\n",
    "Click to open in:  \\[[GitHub](https://github.com/DIDSR/wsi_processing_toolbox/4_ROI_generator.ipynb)\\]\n",
    "\n",
    "Developer: Seyed.kahaki@fda.hhs.gov"
   ]
  },
  {
   "cell_type": "markdown",
   "id": "d2899f8c",
   "metadata": {},
   "source": [
    "## Patch Extraction Demo\n",
    "This demonstration guides you through the process of using WSIToolbox to extract patches within annotations. This feature enabled using the patch_extraction method. "
   ]
  },
  {
   "cell_type": "markdown",
   "id": "76466a07",
   "metadata": {},
   "source": [
    "## Environment Configuration\n",
    "\n",
    "Please follow the instruction provided in the Installation section to install related dependencies. If this isn't your first time running this code and you have all these packages installed, you can skip to the next step. If you choose to run it regardless, you might encounter an error message; however, this won't negatively impact your session. On Jupyter Notebook, this cell is responsible for installing required packages for wsi_reader module."
   ]
  },
  {
   "cell_type": "code",
   "execution_count": null,
   "id": "48ce2a1a",
   "metadata": {},
   "outputs": [],
   "source": [
    "# to check the python version\n",
    "from platform import python_version\n",
    "print(python_version())\n",
    "#pip os\n",
    "#pip lxml==4.9.1\n",
    "#pip pandas\n",
    "print(\"Installation is done.\")"
   ]
  },
  {
   "cell_type": "markdown",
   "id": "350facfa",
   "metadata": {},
   "source": [
    "## Loading Required Packages\n",
    "\n",
    "In this step, we will import several Python modules that are needed for our analysis."
   ]
  },
  {
   "cell_type": "code",
   "execution_count": null,
   "id": "f92d3305",
   "metadata": {},
   "outputs": [],
   "source": [
    "from assessment.ROI import ROI_Generator"
   ]
  },
  {
   "cell_type": "markdown",
   "id": "4b4957d5",
   "metadata": {},
   "source": [
    "## Generating the Map File\n"
   ]
  },
  {
   "cell_type": "code",
   "execution_count": 2,
   "id": "69818fbb",
   "metadata": {},
   "outputs": [],
   "source": [
    "input_DIR = 'C:/DATA/6_ML_Patches/ML_Patches/HighRanked/'\n",
    "output_DIR = 'C:/DATA/6_ML_Patches/'\n",
    "file_Name = 'coordinatesTEST.csv'\n",
    "\n",
    "ROI_Generator.generate_map_file(input_DIR,output_DIR,file_Name)"
   ]
  },
  {
   "cell_type": "markdown",
   "id": "56632e5c",
   "metadata": {},
   "source": [
    "## Generate ROIs"
   ]
  },
  {
   "cell_type": "code",
   "execution_count": 4,
   "id": "7b2df75a",
   "metadata": {},
   "outputs": [
    {
     "name": "stdout",
     "output_type": "stream",
     "text": [
      "BA-09-85 HE\n",
      "BA-11-07 1A HE\n",
      "BA-13-13 HE\n",
      "BA-17-44 HE\n",
      "BA-24-78\n",
      "BA-31-51 A\n",
      "aperio-004-0\n",
      "aperio-018-0\n",
      "aperio-020-0\n",
      "aperio-022-0\n",
      "aperio-025-0\n",
      "aperio-031-0\n",
      "aperio-051-0\n",
      "aperio-052-0\n",
      "aperio-072-0\n",
      "aperio-074-0\n",
      "aperio-081-0\n",
      "aperio-109-0\n",
      "aperio-122-0\n",
      "aperio-130-0\n",
      "aperio-134-0\n",
      "aperio-135-0\n",
      "aperio-142-0\n"
     ]
    }
   ],
   "source": [
    "input_DIR = 'C:/DATA/6_ML_Patches/'\n",
    "file_Name = 'coordinatesTEST.csv'\n",
    "path_size= 255\n",
    "ROI_output_DIR =r'C:/DATA/temp/ForPathologistReview_TEST/'\n",
    "\n",
    "ROI_Generator = ROI_Generator()\n",
    "\n",
    "\n",
    "ROI_Generator.create_xml(input_DIR,file_Name,path_size ,ROI_output_DIR)"
   ]
  },
  {
   "cell_type": "code",
   "execution_count": null,
   "id": "98e613a0",
   "metadata": {},
   "outputs": [],
   "source": []
  }
 ],
 "metadata": {
  "kernelspec": {
   "display_name": "Python 3",
   "language": "python",
   "name": "python3"
  },
  "language_info": {
   "codemirror_mode": {
    "name": "ipython",
    "version": 3
   },
   "file_extension": ".py",
   "mimetype": "text/x-python",
   "name": "python",
   "nbconvert_exporter": "python",
   "pygments_lexer": "ipython3",
   "version": "3.8.8"
  }
 },
 "nbformat": 4,
 "nbformat_minor": 5
}

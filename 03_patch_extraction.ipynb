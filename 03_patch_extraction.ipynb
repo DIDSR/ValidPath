{
 "cells": [
  {
   "cell_type": "markdown",
   "id": "ad47756d",
   "metadata": {},
   "source": [
    "# Patch Extraction\n",
    "\n",
    "Click to open in:  \\[[GitHub](https://github.com/DIDSR/wsi_processing_toolbox/03_patch_extraction.ipynb)\\]\n",
    "\n",
    "Developer: Seyed.kahaki@fda.hhs.gov"
   ]
  },
  {
   "cell_type": "markdown",
   "id": "a92ea8b8",
   "metadata": {},
   "source": [
    "## Patch Extraction Demo\n",
    "This demonstration guides you through the process of using WSIToolbox to extract patches within annotations. This feature enabled using the patch_extraction method. "
   ]
  },
  {
   "cell_type": "markdown",
   "id": "d607b3b4",
   "metadata": {},
   "source": [
    "## Environment Configuration\n",
    "Please follow the instruction provided in the Installation section to install related dependencies. If this isn't your first time running this code and you have all these packages installed, you can skip to the next step. If you choose to run it regardless, you might encounter an error message; however, this won't negatively impact your session. On Jupyter Notebook, this cell is responsible for installing required packages for patch extraction module. If you haven’t installed the packages based on the instruction provided for the WSI Reader module, please install these packages as well"
   ]
  },
  {
   "cell_type": "code",
   "execution_count": null,
   "id": "8590b1fa",
   "metadata": {},
   "outputs": [],
   "source": [
    "# to check the python version\n",
    "from platform import python_version\n",
    "print(python_version())\n",
    "#pip install mpmath==1.2.1\n",
    "#pip install lxml==4.9.1\n",
    "#!apt-get -y install libopenjp2-7-dev libopenjp2-tools openslide-tools | tail --line 1\n",
    "#pip install cv2== 4.5.3\n",
    "#pip install openslide-python==1.1.2\n",
    "#pip install Shapely==1.7.1\n",
    "#pip install tifffile==2022.10.10\n",
    "#pip install random\n",
    "#pip install glob\n",
    "print(\"Installation is done.\")"
   ]
  },
  {
   "cell_type": "markdown",
   "id": "a0282c4c",
   "metadata": {},
   "source": [
    "## Cleaning up residual files from prior sessions\n",
    "\n",
    "The following cell will delete the output directory (for example: C:/Users/data), assuming it exists due to an earlier run of this notebook. If this is your initial run, you can disregard this step."
   ]
  },
  {
   "cell_type": "code",
   "execution_count": null,
   "id": "cfa15709",
   "metadata": {},
   "outputs": [],
   "source": [
    "#![ -d 'C:/Users/data' ] && ( echo \"deleting tmp directory\"; rm -rf 'C:/Users/data' )"
   ]
  },
  {
   "cell_type": "markdown",
   "id": "0f33ff3e",
   "metadata": {},
   "source": [
    "## Loading Required Packages\n",
    "\n",
    "In this step, we will import several Python modules that are needed for our analysis.\n"
   ]
  },
  {
   "cell_type": "code",
   "execution_count": null,
   "id": "67bd5ce7",
   "metadata": {},
   "outputs": [],
   "source": [
    "import os\n",
    "from readwsi.readwsi import ReadWsi\n",
    "from readwsi.readwsi import WSIpatch_extractor\n",
    "from annotation.patch_extractor import PatchExtractor\n",
    "import matplotlib.pyplot as plt"
   ]
  },
  {
   "cell_type": "markdown",
   "id": "e0e48f94",
   "metadata": {},
   "source": [
    "## Patch extraction from annotated area\n",
    "In this demonstration, we show you how to extract image patches from the annotated region of the WSI. We do this by using WSIToolbox's PatchExtractor class. This step should be run after extracting the annotated area of the WSI. If you haven't extract the annotations, in order to extract the image patches. please follow the steps in this Notebook github.com/DIDSR/wsi_processing_toolbox/02_annotation_extraction.ipynb. After extracting the image patches, you can call the gen_patch method from the annotation.patch_extractor class to extract image patches. Please make sure that you imported the PatchExtractor class using \"from annotation.patch_extractor import PatchExtractor\". Please run the following code to generate image patches from the annotated area."
   ]
  },
  {
   "cell_type": "code",
   "execution_count": null,
   "id": "3f73f29a",
   "metadata": {},
   "outputs": [],
   "source": [
    "INPUTDIR = 'C:/DATA/0_Washu-Aperio/input_output/'\n",
    "PatchSize = (255,255)\n",
    "Number_of_Patches = 10\n",
    "OUTPUTDIR = 'C:/DATA/0_Washu-Aperio/input_outputimages/'\n",
    "intensity_check = False\n",
    "\n",
    "PatchExtractor.gen_patch(INPUTDIR,PatchSize,Number_of_Patches,intensity_check,OUTPUTDIR)"
   ]
  },
  {
   "cell_type": "markdown",
   "id": "4e297fae",
   "metadata": {},
   "source": [
    "## Patch Extraction from the entire WSI\n",
    "In this section, we load a WSI and create the WSI object. This is enabled using the wsi_reader method in the ReadWsi package. For this, we will set up a directory which contains our WSI files, we will create a list in Python and append WSI names in this list and load the WSI using the wsi_reader using an index. "
   ]
  },
  {
   "cell_type": "markdown",
   "id": "144c9a72",
   "metadata": {},
   "source": [
    "### Read WSI"
   ]
  },
  {
   "cell_type": "code",
   "execution_count": null,
   "id": "5dd3bc16",
   "metadata": {},
   "outputs": [],
   "source": [
    "while True:\n",
    "    \n",
    "    # loading input directory\n",
    "    dir_file = input(r\"Please enter the file directory, for example: C:\\DATA\\0_Washu-Aperio: \")\n",
    "    # Getting the wsi file name\n",
    "    file_name = input(\"Please enter the file name, for example: aperio-002-0.svs:\")\n",
    "    print(\"\\n\")\n",
    "    path = dir_file + \"\\\\\" + file_name\n",
    "    \n",
    "    #Checking folder availability \n",
    "    if os.path.exists(path):\n",
    "        # reading wsi file \n",
    "        wsi_obj =ReadWsi.wsi_reader(path)\n",
    "        break\n",
    "    else:\n",
    "        print(\"File path error!\" )\n",
    "\n",
    "print(\" Done...\")"
   ]
  },
  {
   "cell_type": "markdown",
   "id": "68e38444",
   "metadata": {},
   "source": [
    "After reading the WSI using the wsi_reader, we have an object which has the loaded WSI. To validate if the object is loaded correctly, we print the object and also print the available pyramid levels of the WSI using the “.level_dimensions” method. "
   ]
  },
  {
   "cell_type": "code",
   "execution_count": null,
   "id": "acace363",
   "metadata": {},
   "outputs": [],
   "source": [
    "#wsi_obj =ReadWsi.wsi_reader('C:/DATA/0_Washu-Aperio/aperio-002-0.svs')\n",
    "print(wsi_obj)\n",
    "print(wsi_obj.level_dimensions)"
   ]
  },
  {
   "cell_type": "markdown",
   "id": "b5b6fa7e",
   "metadata": {},
   "source": [
    "### Thumbnail Visualization\n",
    "\n",
    "To see a thumbnail of the WSI, we use the get_thumbnail method of wsi_reader. We load the thumbnail as follows:"
   ]
  },
  {
   "cell_type": "code",
   "execution_count": null,
   "id": "a4effdc2",
   "metadata": {},
   "outputs": [],
   "source": [
    "###################################  WSI thumbnail code to show the WSI in small size\n",
    "\n",
    "#Getting the thumbnail size from the user\n",
    "size_ = [int (input(\"Please enter x-size in pixels, for example: 600 ... \")),int (input(\"Please enter y-size in pixels, for example: 300 ...\"))]\n",
    "#for example: size_ = (600,300)\n",
    "\n",
    "#Getting the thumbnail \n",
    "tile= wsi_obj.get_thumbnail(size=size_)\n",
    "\n",
    "plt.imshow(tile)\n",
    "plt.title(\"WSI thumbnail\")"
   ]
  },
  {
   "cell_type": "markdown",
   "id": "d053bb2f",
   "metadata": {},
   "source": [
    "### Extract Image Patches from the WSI"
   ]
  },
  {
   "cell_type": "code",
   "execution_count": null,
   "id": "6e725181",
   "metadata": {},
   "outputs": [],
   "source": [
    "while True:\n",
    "\n",
    "    #Setting the patch size\n",
    "    patchsize = int(input(r\"Please enter the patch size, for example 255: \"))\n",
    "    \n",
    "    #Setting the output directory\n",
    "    output_directory = input(r\"Please enter the output directory, for example C:/Users/data/output/:\")\n",
    "    \n",
    "    \n",
    "    # Setting the random state. \n",
    "    #       1: Extract patches randomly from the whole slide image. In this case, please make sure that you entered\n",
    "    #          the maximum number of patches to be extracted\n",
    "    #       0: Extract patches starting from the beginning of the whole slide image\n",
    "    \n",
    "    random = int(input(r\"Please enter set the random variable (1 = randomize ,  0 = non-randomized)\"))\n",
    "    if random==1 :\n",
    "        random= True\n",
    "    if random==0 :\n",
    "        random= False\n",
    "    else:\n",
    "        print('random_state sets incorrectly!')\n",
    "            \n",
    "        \n",
    "    # Setting the number of image patches to be extracted   \n",
    "    num_patches = int(input(r\"Please enter the number of pathces. Enter -1 to extract all available patches:\"))\n",
    "    \n",
    "    #  Setting the visualization parameter:\n",
    "    #  0: Do not plot image patches\n",
    "    #  1: Ploting the image patches\n",
    "    visualize = int(input(\"Would like to display image patches? (1 = yes,   0 = no): \"))\n",
    "    if random_state==1 :\n",
    "        random_state= True\n",
    "    if random_state==0 :\n",
    "        random_state= False\n",
    "    \n",
    "    \n",
    "    # Setting the intensity check parameter:\n",
    "    # 1: exclude empty patches based on mean intensity of the image patch\n",
    "    # 0: Do not exclude any patch\n",
    "    intensity_check = int(input(\"Only include patches with mean intestity higher than 230? (1 = yes,   0 = no): \"))\n",
    "    if intensity_check==1 :\n",
    "        random_state= True\n",
    "    if intensity_check==0 :\n",
    "        random_state= False\n",
    "    \n",
    "    print(\"\\n\")\n",
    "    \n",
    "    #Checking folder availability\n",
    "    if not os.path.exists(output_directory):\n",
    "        os.makedirs(output_directory)\n",
    "    WSIpatch_extractor.patch_extraction(wsi_obj,patchsize,output_directory,random,visualize,intensity_check,num_patches)\n"
   ]
  },
  {
   "cell_type": "markdown",
   "id": "63f89af6",
   "metadata": {},
   "source": [
    "### Extracting few (100) image patches"
   ]
  },
  {
   "cell_type": "code",
   "execution_count": null,
   "id": "4dce1635",
   "metadata": {},
   "outputs": [],
   "source": [
    "print(\"\\n**********************< Extract few patches from WSI (non-overlapping) >************************\\n\")\n",
    "patchsize = 256\n",
    "output_directory = \"C:/DATA/0_Washu-Aperio/out_dir/\"\n",
    "random= False\n",
    "visualize = False\n",
    "intensity_check = False\n",
    "num_patches = 100 # set to -1 to extract all patches\n",
    "\n",
    "WSIpatch_extractor.patch_extraction(wsi_obj,patchsize,output_directory,random,visualize,intensity_check,num_patches)\n"
   ]
  },
  {
   "cell_type": "code",
   "execution_count": null,
   "id": "ac34cb51",
   "metadata": {},
   "outputs": [],
   "source": []
  }
 ],
 "metadata": {
  "celltoolbar": "Edit Metadata",
  "kernelspec": {
   "display_name": "Python 3",
   "language": "python",
   "name": "python3"
  },
  "language_info": {
   "codemirror_mode": {
    "name": "ipython",
    "version": 3
   },
   "file_extension": ".py",
   "mimetype": "text/x-python",
   "name": "python",
   "nbconvert_exporter": "python",
   "pygments_lexer": "ipython3",
   "version": "3.8.8"
  }
 },
 "nbformat": 4,
 "nbformat_minor": 5
}

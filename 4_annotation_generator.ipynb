{
 "cells": [
  {
   "cell_type": "markdown",
   "id": "475e0dec",
   "metadata": {},
   "source": [
    "# Annotation File Generator\n",
    "\n",
    "Click to open in:  \\[[GitHub](https://github.com/DIDSR/wsi_processing_toolbox/4_annotation_generator.ipynb)\\]\n",
    "\n",
    "Developer: Seyed.kahaki@fda.hhs.gov"
   ]
  },
  {
   "cell_type": "markdown",
   "id": "1940fa46",
   "metadata": {},
   "source": [
    "## Patch Extraction Demo\n",
    "This demonstration guides you through the process of using WSIToolbox to extract patches within annotations. This feature enabled using the patch_extraction method. "
   ]
  },
  {
   "cell_type": "markdown",
   "id": "a6cd0b1d",
   "metadata": {},
   "source": [
    "## Environment Configuration\n",
    "\n",
    "Please follow the instruction provided in the Installation section to install related dependencies. If this isn't your first time running this code and you have all these packages installed, you can skip to the next step. If you choose to run it regardless, you might encounter an error message; however, this won't negatively impact your session. On Jupyter Notebook, this cell is responsible for installing required packages for wsi_reader module."
   ]
  },
  {
   "cell_type": "code",
   "execution_count": 1,
   "id": "ca316613",
   "metadata": {},
   "outputs": [
    {
     "name": "stdout",
     "output_type": "stream",
     "text": [
      "3.8.8\n",
      "Installation is done.\n"
     ]
    }
   ],
   "source": [
    "# to check the python version\n",
    "from platform import python_version\n",
    "print(python_version())\n",
    "#pip os\n",
    "#pip lxml==4.9.1\n",
    "#pip pandas\n",
    "print(\"Installation is done.\")"
   ]
  },
  {
   "cell_type": "markdown",
   "id": "73f2f380",
   "metadata": {},
   "source": [
    "## Loading Required Packages\n",
    "\n",
    "In this step, we will import several Python modules that are needed for our analysis."
   ]
  },
  {
   "cell_type": "code",
   "execution_count": 1,
   "id": "30b14a2a",
   "metadata": {},
   "outputs": [],
   "source": [
    "from assessment.annotation import Annotation_Generator\n",
    "Annotation_Generator = Annotation_Generator()"
   ]
  },
  {
   "cell_type": "markdown",
   "id": "537ef42c",
   "metadata": {},
   "source": [
    "## ROI Generation Pipeline\n",
    "<img width = '600' src=\"img/ROI_Gen.PNG\">"
   ]
  },
  {
   "cell_type": "markdown",
   "id": "ef3e6ef6",
   "metadata": {},
   "source": [
    "## Generating the Map File\n"
   ]
  },
  {
   "cell_type": "code",
   "execution_count": 11,
   "id": "6f591393",
   "metadata": {},
   "outputs": [],
   "source": [
    "#input_DIR = 'C:/Users/WXC4/ExampleData/patch_extdata/png_files/washu-aperio-007-0'\n",
    "#input_DIR = './data/images/ImagepatchesWSI/Imagepatches/'\n",
    "input_DIR = \"./data/images/Imagepatches/CMU-1-Small-Region/\"\n",
    "output_DIR = \"./data/AnnGeneration/\"\n",
    "#output_DIR = 'C:/DATA/temp/'\n",
    "#output_DIR = 'C:/Users/WXC4/ExampleData/'\n",
    "file_Name = 'mapfile.csv'"
   ]
  },
  {
   "cell_type": "code",
   "execution_count": 12,
   "id": "e8526a3a",
   "metadata": {},
   "outputs": [
    {
     "name": "stdout",
     "output_type": "stream",
     "text": [
      "./data/images/Imagepatches/CMU-1-Small-Region/\n"
     ]
    }
   ],
   "source": [
    "Annotation_Generator.generate_map_file(input_DIR,output_DIR,file_Name,'test')"
   ]
  },
  {
   "cell_type": "markdown",
   "id": "0bbb36ef",
   "metadata": {},
   "source": [
    "## Generate ROIs"
   ]
  },
  {
   "cell_type": "code",
   "execution_count": 14,
   "id": "e20b842c",
   "metadata": {},
   "outputs": [
    {
     "name": "stdout",
     "output_type": "stream",
     "text": [
      "CMU-1-Small-Region\n",
      "1187\n",
      "255\n",
      "1037\n",
      "255\n",
      "968\n",
      "255\n",
      "1056\n",
      "255\n",
      "1050\n",
      "255\n",
      "968\n",
      "255\n",
      "1161\n",
      "255\n",
      "1118\n",
      "255\n",
      "945\n",
      "255\n",
      "1182\n",
      "255\n",
      "1027\n",
      "255\n",
      "982\n",
      "255\n",
      "974\n",
      "255\n",
      "1059\n",
      "255\n",
      "1200\n",
      "255\n",
      "1044\n",
      "255\n",
      "1043\n",
      "255\n",
      "997\n",
      "255\n",
      "978\n",
      "255\n",
      "1145\n",
      "255\n",
      "931\n",
      "255\n",
      "1065\n",
      "255\n",
      "1054\n",
      "255\n",
      "986\n",
      "255\n",
      "1162\n",
      "255\n",
      "1066\n",
      "255\n",
      "963\n",
      "255\n",
      "963\n",
      "255\n",
      "934\n",
      "255\n",
      "980\n",
      "255\n"
     ]
    }
   ],
   "source": [
    "#input_DIR = 'C:/Users/WXC4/ExampleData/'\n",
    "input_DIR = output_DIR\n",
    "\n",
    "path_size= 255\n",
    "#ROI_output_DIR =r'C:/Users/WXC4/ExampleData/'\n",
    "ROI_output_DIR =r'./data/AnnGeneration/'\n",
    "tag_name = 'Test'\n",
    "\n",
    "Annotation_Generator.create_xml(input_DIR,file_Name,path_size ,ROI_output_DIR)"
   ]
  },
  {
   "cell_type": "code",
   "execution_count": null,
   "id": "43e74393",
   "metadata": {},
   "outputs": [],
   "source": []
  }
 ],
 "metadata": {
  "kernelspec": {
   "display_name": "Python 3",
   "language": "python",
   "name": "python3"
  },
  "language_info": {
   "codemirror_mode": {
    "name": "ipython",
    "version": 3
   },
   "file_extension": ".py",
   "mimetype": "text/x-python",
   "name": "python",
   "nbconvert_exporter": "python",
   "pygments_lexer": "ipython3",
   "version": "3.8.8"
  }
 },
 "nbformat": 4,
 "nbformat_minor": 5
}

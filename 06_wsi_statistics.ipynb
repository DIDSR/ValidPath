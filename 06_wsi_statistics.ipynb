{
 "cells": [
  {
   "cell_type": "markdown",
   "id": "3e7e4d2d",
   "metadata": {},
   "source": [
    "# Stain Normalization"
   ]
  },
  {
   "cell_type": "markdown",
   "id": "64ce98ca",
   "metadata": {},
   "source": [
    "## About this notebook\n",
    "This jupyter notebook can be run on any computer with a standard browser and no prior installation of any programming language is required."
   ]
  },
  {
   "cell_type": "markdown",
   "id": "96309cb6",
   "metadata": {},
   "source": [
    "### About\n",
    "\n",
    "Stain normalization is a common preprocessing step that aims to reduce color differences to a minimum that are not important in clinical practice.\n",
    "In digital pathology, in order to have better results with different scanners and different types of colors, normalization is used to reduce errors."
   ]
  },
  {
   "cell_type": "markdown",
   "id": "9d15667b",
   "metadata": {},
   "source": [
    "### Setting up :\n",
    "You should install our package and import to your code , then use it ."
   ]
  },
  {
   "cell_type": "markdown",
   "id": "d0c8093e",
   "metadata": {},
   "source": [
    "\n",
    "1. At the first you should import some packages that you need ."
   ]
  },
  {
   "cell_type": "code",
   "execution_count": null,
   "id": "87bea29f",
   "metadata": {},
   "outputs": [],
   "source": [
    "import os\n",
    "from glob import glob\n",
    "from readwsi import ReadWsi\n",
    "import numpy as np\n",
    "import matplotlib.pyplot as plt\n",
    "import matplotlib as mpl\n",
    "\n",
    "mpl.rcParams[\"figure.dpi\"] = 150 "
   ]
  },
  {
   "cell_type": "markdown",
   "id": "92287c1f",
   "metadata": {},
   "source": [
    "### Reading in a WSI\n",
    "It's easy to read a WSI."
   ]
  },
  {
   "cell_type": "code",
   "execution_count": null,
   "id": "089bd0ac",
   "metadata": {},
   "outputs": [],
   "source": [
    "dir_file = dir_file = os.getcwd()\n",
    "wsi_obj =ReadWsi.wsi_reader(dir_file+'/CMU-2.svs')\n",
    "wsi_obj"
   ]
  },
  {
   "cell_type": "markdown",
   "id": "4beb1222",
   "metadata": {},
   "source": [
    "### print important metadata."
   ]
  },
  {
   "cell_type": "code",
   "execution_count": null,
   "id": "2374938b",
   "metadata": {},
   "outputs": [],
   "source": [
    "wsi_info = wsi_obj.level_dimensions\n",
    "print(wsi_info)\n",
    "print(wsi_obj.dimensions)\n",
    "print(wsi_obj.level_count)\n",
    "print(wsi_obj.level_downsamples)\n"
   ]
  },
  {
   "cell_type": "markdown",
   "id": "38d524d5",
   "metadata": {},
   "source": [
    "### plot the file :"
   ]
  },
  {
   "cell_type": "code",
   "execution_count": null,
   "id": "996b527f",
   "metadata": {},
   "outputs": [],
   "source": [
    "file = wsi_obj.read_region((0, 0),1,wsi_obj.level_dimensions[1]).convert('RGB')\n",
    "plt.imshow(file)"
   ]
  },
  {
   "cell_type": "markdown",
   "id": "2da3b9e7",
   "metadata": {},
   "source": [
    "### Extract a tile from the WSI"
   ]
  },
  {
   "cell_type": "code",
   "execution_count": null,
   "id": "fc548b5f",
   "metadata": {},
   "outputs": [],
   "source": [
    "sample = wsi_obj.read_region( location=[8000, 16000], level=0, size=[256, 256]  # in X, Y \n",
    "                            )\n",
    "plt.figure(figsize=(3, 3))\n",
    "plt.imshow(sample)\n"
   ]
  },
  {
   "cell_type": "markdown",
   "id": "364f7bf9",
   "metadata": {},
   "source": [
    "### Stain normalizing a tile"
   ]
  },
  {
   "cell_type": "code",
   "execution_count": null,
   "id": "09224078",
   "metadata": {},
   "outputs": [],
   "source": [
    "from normalization import Normalization\n",
    "from PIL import Image\n",
    "\n",
    "\n",
    "#rgba_image = Image.open('tile path')\n",
    "# Convert RGBA to RGB (it should have 3 channels)\n",
    "rgb_image = sample.convert('RGB')\n",
    "\n",
    "temp_tile_np = np.array(rgb_image)\n",
    "print(temp_tile_np.shape)\n",
    "\n",
    "\n",
    "# normalization the tile \n",
    "norm_img, H_img, E_img = Normalization.norm_HnE(temp_tile_np, Io=240, alpha=1, beta=0.15)\n",
    "\n",
    "\n"
   ]
  },
  {
   "cell_type": "markdown",
   "id": "388ed354",
   "metadata": {},
   "source": [
    "### plot the tile  with  Normalized Stain ،  H tile  and  E tile"
   ]
  },
  {
   "cell_type": "code",
   "execution_count": null,
   "id": "c88e280f",
   "metadata": {
    "scrolled": true
   },
   "outputs": [],
   "source": [
    "fig = plt.figure(figsize=(10, 7))\n",
    "rows = 2\n",
    "columns = 2\n",
    "fig.add_subplot(rows, columns, 1)\n",
    "\n",
    "  \n",
    "# showing image\n",
    "plt.imshow(temp_tile_np)\n",
    "plt.axis('off')\n",
    "plt.title(\"temp_tile\")\n",
    "  \n",
    "# Adds a subplot at the 2nd position\n",
    "fig.add_subplot(rows, columns, 2)\n",
    "  \n",
    "# showing image\n",
    "plt.imshow(norm_img)\n",
    "plt.axis('off')\n",
    "plt.title(\"norm_img\")\n",
    "  \n",
    "# Adds a subplot at the 3rd position\n",
    "fig.add_subplot(rows, columns, 3)\n",
    "  \n",
    "# showing image\n",
    "plt.imshow(H_img)\n",
    "plt.axis('off')\n",
    "plt.title(\"H_img\")\n",
    "\n",
    "fig.add_subplot(rows, columns, 4)\n",
    "  \n",
    "# showing image\n",
    "plt.imshow(E_img)\n",
    "plt.axis('off')\n",
    "plt.title(\"E_img\")\n"
   ]
  },
  {
   "cell_type": "markdown",
   "id": "63f0cd4d",
   "metadata": {},
   "source": [
    "### visualization histogram "
   ]
  },
  {
   "cell_type": "code",
   "execution_count": null,
   "id": "6b39e763",
   "metadata": {},
   "outputs": [],
   "source": [
    "\n",
    "from normalization import Normalization\n",
    "\n",
    "# type of input images are numpy.ndarray\n",
    "source_matched, source, target= Normalization.match_hist(H_img, E_img , True)"
   ]
  },
  {
   "cell_type": "markdown",
   "id": "6332c4b7",
   "metadata": {},
   "source": [
    "### patch normalization \n",
    "##### This function perform patch normalization for all patches inside subfolders."
   ]
  },
  {
   "cell_type": "code",
   "execution_count": null,
   "id": "45de6766",
   "metadata": {},
   "outputs": [],
   "source": [
    "from normalization import Normalization\n",
    "a= \"E:\\\\svs\\\\norm\"\n",
    "b= \"E:\\\\svs\\\\norm\\\\ex\"\n",
    "Normalization.patch_norm(a,b,'H_E','tif')"
   ]
  }
 ],
 "metadata": {
  "kernelspec": {
   "display_name": "Python 3",
   "language": "python",
   "name": "python3"
  },
  "language_info": {
   "codemirror_mode": {
    "name": "ipython",
    "version": 3
   },
   "file_extension": ".py",
   "mimetype": "text/x-python",
   "name": "python",
   "nbconvert_exporter": "python",
   "pygments_lexer": "ipython3",
   "version": "3.8.8"
  }
 },
 "nbformat": 4,
 "nbformat_minor": 5
}

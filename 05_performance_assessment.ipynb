{
 "cells": [
  {
   "cell_type": "markdown",
   "id": "866dc4ef",
   "metadata": {},
   "source": [
    "# Assessment\n",
    "\n",
    "Click to open in:  \\[[GitHub](https://github.com/DIDSR/wsi_processing_toolbox/05_performance_assessment.ipynb)\\]\n",
    "\n",
    "Developer: Seyed.kahaki@fda.hhs.gov"
   ]
  },
  {
   "cell_type": "markdown",
   "id": "c9ac3e0e",
   "metadata": {},
   "source": [
    "## About this notebook\n",
    "This jupyter notebook can be run on any computer with a standard browser and no prior installation of any programming language is required."
   ]
  },
  {
   "cell_type": "markdown",
   "id": "a74acc53",
   "metadata": {},
   "source": [
    "### About\n",
    "\n",
    "Stain normalization is a common preprocessing step that aims to reduce color differences to a minimum that are not important in clinical practice.\n",
    "In digital pathology, in order to have better results with different scanners and different types of colors, normalization is used to reduce errors."
   ]
  },
  {
   "cell_type": "markdown",
   "id": "2c67cb96",
   "metadata": {},
   "source": [
    "### Setting up :\n",
    "You should install our package and import to your code , then use it ."
   ]
  },
  {
   "cell_type": "markdown",
   "id": "f84d5598",
   "metadata": {},
   "source": [
    "\n",
    "1. At the first you should import some packages that you need ."
   ]
  },
  {
   "cell_type": "code",
   "execution_count": 1,
   "id": "53c9347e",
   "metadata": {},
   "outputs": [],
   "source": [
    "import numpy as np\n",
    "import pandas as pd\n",
    "from assessment.uncertainty import Uncertainty_Analysis\n",
    "UncertaintyAnalysis = Uncertainty_Analysis()"
   ]
  },
  {
   "cell_type": "code",
   "execution_count": 16,
   "id": "f78c9c41",
   "metadata": {},
   "outputs": [
    {
     "name": "stdout",
     "output_type": "stream",
     "text": [
      "please enter xls file path, for example C:/Results/ResultsExample.xlsx: ResultsExample.xlsx\n",
      "Do you want to plot ROC curve (1 = Yes ,  0 = No)1\n",
      "plot_roc sets incorrectly!\n",
      "Do you want to get AUC based on Delong method? (1 = Yes ,  0 = No)1\n",
      "plot_roc sets incorrectly!\n",
      "Do you want to plot ROC curve (1 = Yes ,  0 = No)0\n",
      "perform_Bootstrap sets incorrectly!\n",
      "Please enter a name for this results: Covid19\n",
      "####################\n",
      "Results for Covid19\n",
      "          pred:yes  pred:no\n",
      "true:yes       285       14\n",
      "true:no         79       32\n",
      "Precision:  0.782967032967033\n",
      "Precision_CI:  (0.7406191220140836, 0.8253149439199823)\n",
      "Recall:  0.9531772575250836\n",
      "Recall_CI:  (0.9292315454409011, 0.9771229696092661)\n",
      "Delong Method\n",
      "AUC: 0.8234354756093887\n",
      "AUC COV: 0.0005619434162873769\n",
      "95% AUC CI: [0.77697385 0.8698971 ]\n"
     ]
    },
    {
     "data": {
      "image/png": "[encoded data removed]",
      "text/plain": [
       "<Figure size 432x288 with 1 Axes>"
      ]
     },
     "metadata": {
      "needs_background": "light"
     },
     "output_type": "display_data"
    }
   ],
   "source": [
    "xls_file =input(\"please enter xls file path, for example C:/Results/ResultsExample.xlsx: \")\n",
    "\n",
    "perform_Bootstrap = int(input(r\"Do you want to plot ROC curve (1 = Yes ,  0 = No)\"))\n",
    "if perform_Bootstrap==1 :\n",
    "    UncertaintyAnalysis.perform_Bootstrap= True\n",
    "if plot_roc==0 :\n",
    "    UncertaintyAnalysis.perform_Bootstrap= False\n",
    "else:\n",
    "    print('perform_Bootstrap sets incorrectly!')\n",
    "\n",
    "plot_roc = int(input(r\"Do you want to plot ROC curve (1 = Yes ,  0 = No)\"))\n",
    "if plot_roc==1 :\n",
    "    UncertaintyAnalysis.plot_roc= True\n",
    "if plot_roc==0 :\n",
    "    UncertaintyAnalysis.plot_roc= False\n",
    "else:\n",
    "    print('plot_roc sets incorrectly!')\n",
    "    \n",
    "    \n",
    "perform_Delong = int(input(r\"Do you want to get AUC based on Delong method? (1 = Yes ,  0 = No)\"))\n",
    "if perform_Delong==1 :\n",
    "    UncertaintyAnalysis.perform_Delong= True\n",
    "if perform_Delong==0 :\n",
    "    UncertaintyAnalysis.perform_Delong= False\n",
    "else:\n",
    "    print('plot_roc sets incorrectly!') \n",
    "\n",
    "UncertaintyAnalysis.tag = str(input(r\"Please enter a name for this results: \"))\n",
    "#loading file tnto dataframe\n",
    "df = pd.read_excel(xls_file)\n",
    "# print(\"\\n \",df)\n",
    "\n",
    "#define two list to save values\n",
    "y_pred=[]\n",
    "y_truth= []\n",
    "\n",
    "#extraction columns values \n",
    "for i in df.values:\n",
    "    y_truth.append(i[0])\n",
    "    y_pred.append(i[1])\n",
    "\n",
    "\n",
    "#convert list to ndarray\n",
    "y_pred = np.array(y_pred)\n",
    "y_truth = np.array(y_truth)\n",
    "\n",
    "Results = UncertaintyAnalysis.get_report(y_pred , y_truth)"
   ]
  },
  {
   "cell_type": "markdown",
   "id": "7ae90b8a",
   "metadata": {},
   "source": [
    "### Setting parameters manually"
   ]
  },
  {
   "cell_type": "code",
   "execution_count": 17,
   "id": "b22d2ad7",
   "metadata": {},
   "outputs": [],
   "source": [
    "UncertaintyAnalysis.perform_Delong = False\n",
    "UncertaintyAnalysis.perform_Bootstrap = False\n",
    "UncertaintyAnalysis.plot_roc = False\n",
    "UncertaintyAnalysis.tag = 'My Results'"
   ]
  },
  {
   "cell_type": "code",
   "execution_count": 18,
   "id": "1673fe74",
   "metadata": {},
   "outputs": [
    {
     "name": "stdout",
     "output_type": "stream",
     "text": [
      "####################\n",
      "Results for My Results\n",
      "          pred:yes  pred:no\n",
      "true:yes         3        1\n",
      "true:no          2        3\n",
      "Precision:  0.6\n",
      "Precision_CI:  (0.17059340550788216, 1.0294065944921178)\n",
      "Recall:  0.75\n",
      "Recall_CI:  (0.32565534972143556, 1.1743446502785644)\n"
     ]
    }
   ],
   "source": [
    "#For quick testing\n",
    "y_pred = np.array([0.21, 0.32, 0.63, 0.35, 0.92, 0.79, 0.82, 0.99, 0.04])\n",
    "y_truth= np.array([0,    1,    0,    0,    1,    1,    0,    1,   0  ])\n",
    "\n",
    "\n",
    "Results = UncertaintyAnalysis.get_report(y_pred , y_truth)\n"
   ]
  },
  {
   "cell_type": "code",
   "execution_count": 19,
   "id": "8839fd9a",
   "metadata": {},
   "outputs": [],
   "source": [
    "precision,Precision_CI,recall,Recall_CI, auc_delong ,auc_delong_cov ,ci_delong , fpr_keras, tpr_keras ,auc_keras ,cmtx = Results"
   ]
  },
  {
   "cell_type": "code",
   "execution_count": 20,
   "id": "6a1254c7",
   "metadata": {},
   "outputs": [
    {
     "data": {
      "text/plain": [
       "0.6"
      ]
     },
     "execution_count": 20,
     "metadata": {},
     "output_type": "execute_result"
    }
   ],
   "source": [
    "precision"
   ]
  },
  {
   "cell_type": "code",
   "execution_count": 21,
   "id": "fb6a16b6",
   "metadata": {},
   "outputs": [
    {
     "data": {
      "text/plain": [
       "(0.17059340550788216, 1.0294065944921178)"
      ]
     },
     "execution_count": 21,
     "metadata": {},
     "output_type": "execute_result"
    }
   ],
   "source": [
    "Precision_CI"
   ]
  },
  {
   "cell_type": "code",
   "execution_count": null,
   "id": "2cb894ed",
   "metadata": {},
   "outputs": [],
   "source": []
  }
 ],
 "metadata": {
  "kernelspec": {
   "display_name": "Python 3",
   "language": "python",
   "name": "python3"
  },
  "language_info": {
   "codemirror_mode": {
    "name": "ipython",
    "version": 3
   },
   "file_extension": ".py",
   "mimetype": "text/x-python",
   "name": "python",
   "nbconvert_exporter": "python",
   "pygments_lexer": "ipython3",
   "version": "3.8.8"
  }
 },
 "nbformat": 4,
 "nbformat_minor": 5
}

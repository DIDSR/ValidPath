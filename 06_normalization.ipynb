{
 "cells": [
  {
   "cell_type": "raw",
   "id": "d4a2d7d4",
   "metadata": {},
   "source": [
    "# Stain Normalization"
   ]
  },
  {
   "cell_type": "markdown",
   "id": "4664cf69",
   "metadata": {},
   "source": [
    "## About this notebook\n",
    "This jupyter notebook can be run on any computer with a standard browser and no prior installation of any programming language is required."
   ]
  },
  {
   "cell_type": "markdown",
   "id": "37b5365d",
   "metadata": {},
   "source": [
    "### About\n",
    "\n",
    "Stain normalization is a common preprocessing step that aims to reduce color differences to a minimum that are not important in clinical practice.\n",
    "In digital pathology, in order to have better results with different scanners and different types of colors, normalization is used to reduce errors."
   ]
  },
  {
   "cell_type": "markdown",
   "id": "570f1d60",
   "metadata": {},
   "source": [
    "### Setting up :\n",
    "You should install our package and import to your code , then use it ."
   ]
  },
  {
   "cell_type": "markdown",
   "id": "b83ca153",
   "metadata": {},
   "source": [
    "\n",
    "1. At the first you should import some packages that you need ."
   ]
  },
  {
   "cell_type": "code",
   "execution_count": null,
   "id": "50ecaf71",
   "metadata": {},
   "outputs": [],
   "source": [
    "import os\n",
    "from readwsi.readwsi import ReadWsi\n",
    "import numpy as np\n",
    "import matplotlib.pyplot as plt\n",
    "import matplotlib as mpl\n",
    "from readwsi.normalization import Normalization\n",
    "import readwsi.normalization as normalization\n",
    "from PIL import Image\n",
    "mpl.rcParams[\"figure.dpi\"] = 150 "
   ]
  },
  {
   "cell_type": "markdown",
   "id": "1fc7a4b7",
   "metadata": {},
   "source": [
    "### Reading in a WSI\n",
    "It's easy to read a WSI. "
   ]
  },
  {
   "cell_type": "code",
   "execution_count": null,
   "id": "db7c9b49",
   "metadata": {},
   "outputs": [],
   "source": [
    "# get wsi directory and wsi name of user\n",
    "\n",
    "\n",
    "while True:\n",
    "    \n",
    "    # loading input directory\n",
    "    dir_file = input(r\"enter the file directory ...?    forexample: C:\\Users\\data ---->\")\n",
    "    \n",
    "    # Getting the wsi file name\n",
    "    file_name = input(\"What is the file name...?    forexample: a.svs ---->\")\n",
    "    \n",
    "    print(\"\\n\")\n",
    "    path = dir_file + \"\\\\\" + file_name\n",
    "    \n",
    "    #Checking folder availability\n",
    "    if os.path.exists(path):\n",
    "        wsi_obj =ReadWsi.wsi_reader(path)\n",
    "        break\n",
    "    else:\n",
    "        print(\" !!! path file error.......\" )\n",
    "\n",
    "print(\" Done...\")"
   ]
  },
  {
   "cell_type": "code",
   "execution_count": null,
   "id": "296ab53b",
   "metadata": {},
   "outputs": [],
   "source": [
    "# # set up  wsi directory  and  wsi name\n",
    "\n",
    "# dir_file = r\"C:\\Users\\data\"                       \n",
    "# file_name = 'CMU-2.svs'\n",
    "\n",
    "# # use of ReadWsi class for reading wsi file\n",
    "\n",
    "# wsi_obj =ReadWsi.wsi_reader(dir_file+'/' + file_name)\n",
    "\n",
    "# print(wsi_obj)"
   ]
  },
  {
   "cell_type": "markdown",
   "id": "f5cdc838",
   "metadata": {},
   "source": [
    "### print important metadata."
   ]
  },
  {
   "cell_type": "code",
   "execution_count": null,
   "id": "9c3befec",
   "metadata": {},
   "outputs": [],
   "source": [
    "wsi_info = wsi_obj.level_dimensions\n",
    "\n",
    "#A list of (width, height) tuples, one for each level of the slide. level_dimensions[k] are the dimensions of level k\"\n",
    "print(\"size of ever dimensions are : \",wsi_info)\n",
    "print(\"A (width, height) tuple for level 0 of the slide : \",wsi_obj.dimensions)\n",
    "\n",
    "\n",
    "#The number of levels in the slide. Levels are numbered from  0   (highest resolution)  to  level_count  -1  (lowest resolution)\")\n",
    "print(\"The number of levels in the slide is : \",wsi_obj.level_count)\n",
    "\n",
    "\n",
    "#A list of downsample factors for each level of the slide. level_downsamples[k] is the downsample factor of level k.\n",
    "print(\"A list of downsample factors for each level of the slide is : \",wsi_obj.level_downsamples)\n"
   ]
  },
  {
   "cell_type": "markdown",
   "id": "d3e84210",
   "metadata": {},
   "source": [
    "### plot the file :"
   ]
  },
  {
   "cell_type": "code",
   "execution_count": null,
   "id": "228bdd8e",
   "metadata": {},
   "outputs": [],
   "source": [
    "# plot the wsi with size of ane of level dimensions \n",
    "\n",
    "\n",
    "\n",
    "#### read_region(location, level, size)\n",
    "\n",
    "#location (tuple) = tuple giving the top left pixel in a level of wsi (0 or 1 or ...)\n",
    "#level (int) =  The number of levels in the slide. Levels are numbered from 0 (highest resolution) to level_count - 1 (lowest resolution).\n",
    "# size (tuple) – (width, height) tuple giving the region size\n",
    "\n",
    "location = (0,0)                              # location (tuple) – (x, y)\n",
    "level = 1                                     # level(int)\n",
    "size = wsi_obj.level_dimensions[1]            # a tuple of a level of the slide that here   level dimensions  is 1                  \n",
    "    \n",
    "    \n",
    "file = wsi_obj.read_region(location,level,size).convert('RGB')\n",
    "plt.imshow(file)"
   ]
  },
  {
   "cell_type": "markdown",
   "id": "dad4fd02",
   "metadata": {},
   "source": [
    "### Extract a tile from the WSI"
   ]
  },
  {
   "cell_type": "code",
   "execution_count": null,
   "id": "4db9f717",
   "metadata": {},
   "outputs": [],
   "source": [
    "while True:\n",
    "    # location (tuple) – (x, y)\n",
    "    location = [int (input(\"please enter x-coordinate ... \")),int (input(\"please enter y-coordinate ...\"))]\n",
    "    # level(int)           \n",
    "    level = int(input(r\"please enter The number of levels in the slide...\"))\n",
    "    # a tuple of a level of the slide that here   level dimensions  is 1 \n",
    "    size_ =int( input(r\"please enter size of tile... \"))\n",
    "    size= [size_,size_]\n",
    "    break\n",
    "    \n",
    "print (\"\\n location is \",location, \"  - level is \",level,\" - size is \", size)\n",
    "sample = wsi_obj.read_region( location, level, size)\n",
    "\n",
    "plt.figure(figsize=(3, 3))\n",
    "plt.imshow(sample)"
   ]
  },
  {
   "cell_type": "markdown",
   "id": "a0e35031",
   "metadata": {},
   "source": [
    "### Stain normalizing a tile"
   ]
  },
  {
   "cell_type": "code",
   "execution_count": null,
   "id": "8efd7e25",
   "metadata": {},
   "outputs": [],
   "source": [
    "\n",
    "\n",
    "#rgba_image = Image.open('tile path')\n",
    "# Convert RGBA to RGB (it should have 3 channels)\n",
    "rgb_image = sample.convert('RGB')\n",
    "\n",
    "temp_tile_np = np.array(rgb_image)\n",
    "print(\"size of patch =\" , temp_tile_np.shape)\n",
    "\n",
    "\n",
    "# normalization the tile \n",
    "norm_img, H_img, E_img = normalization.norm_HnE(temp_tile_np, Io=240, alpha=1, beta=0.15)\n",
    "    \n"
   ]
  },
  {
   "cell_type": "markdown",
   "id": "634e1f8d",
   "metadata": {},
   "source": [
    "### plot the tile  with  Normalized Stain ،  H tile  and  E tile"
   ]
  },
  {
   "cell_type": "code",
   "execution_count": null,
   "id": "ce1cf0c0",
   "metadata": {
    "scrolled": true
   },
   "outputs": [],
   "source": [
    "\n",
    "row =1\n",
    "col =4\n",
    "axes=[]\n",
    "fig=plt.figure()  \n",
    "plt.rcParams.update({'font.size': 8})\n",
    "\n",
    "\n",
    "\n",
    "fig = plt.figure(figsize=(15, 15))\n",
    "\n",
    "axes.append( fig.add_subplot(row, col, 1) )\n",
    "subplot_title=(\"original_img \")\n",
    "axes[-1].set_title(subplot_title)  \n",
    "plt.imshow(rgb_image)\n",
    "\n",
    "axes.append( fig.add_subplot(row, col, 2) )\n",
    "subplot_title=(\"norm_img\")               \n",
    "axes[-1].set_title(subplot_title)  \n",
    "plt.imshow(norm_img)\n",
    "               \n",
    "axes.append( fig.add_subplot(row, col, 3) )\n",
    "subplot_title=(\"H_img\")              \n",
    "axes[-1].set_title(subplot_title)  \n",
    "plt.imshow(H_img)\n",
    "               \n",
    "axes.append( fig.add_subplot(row, col, 4) )\n",
    "subplot_title=(\"E_img\")\n",
    "axes[-1].set_title(subplot_title)  \n",
    "plt.imshow(E_img)\n"
   ]
  },
  {
   "cell_type": "markdown",
   "id": "6c8ed285",
   "metadata": {},
   "source": [
    "### visualization histogram "
   ]
  },
  {
   "cell_type": "code",
   "execution_count": null,
   "id": "cb3020b7",
   "metadata": {},
   "outputs": [],
   "source": [
    "# type of input images are numpy.ndarray\n",
    "\n",
    "visualize = True\n",
    "\n",
    "source_matched, source, target= Normalization.match_hist(H_img, E_img , visualize)"
   ]
  },
  {
   "cell_type": "markdown",
   "id": "4cbf407a",
   "metadata": {},
   "source": [
    "### patch normalization \n",
    "##### This function perform patch normalization for all patches inside subfolders."
   ]
  },
  {
   "cell_type": "code",
   "execution_count": null,
   "id": "e32d9143",
   "metadata": {},
   "outputs": [],
   "source": [
    "while True:\n",
    "    # loading input directory\n",
    "    input_dir = input(r\"please enter the patches folder path ...forexample: C:\\Users\\data\\  ---->\")\n",
    "    # loading output directory\n",
    "    output_dir =input(r\"please enter the output folder path ... forexample: C:\\Users\\data\\norm_ ---->\")\n",
    "    # # loading file extension\n",
    "    file_extension = input(r\"please enter file extension...    forexample: tif  ---->\")\n",
    "   \n",
    "    \n",
    "    #Checking folder availability \n",
    "    if os.path.exists(input_dir):\n",
    "        Normalization.patch_norm(input_dir , output_dir , 'H_E' , file_extension)\n",
    "        break\n",
    "    else:\n",
    "        print(\"path not exist..try again\")\n",
    "        continue"
   ]
  },
  {
   "cell_type": "markdown",
   "id": "d7c4e9be",
   "metadata": {},
   "source": [
    "## normalization all patches  and  plot some patches"
   ]
  },
  {
   "cell_type": "code",
   "execution_count": null,
   "id": "3013957f",
   "metadata": {},
   "outputs": [],
   "source": [
    "# patch normalization  and  get patch directory and out directory of user \n",
    "import os\n",
    "\n",
    "while True:\n",
    "\n",
    "    input_dir = input(\"enter the patches directory ...   forexample: C:\\\\Users\\\\data ----> \")\n",
    "    \n",
    "    if os.path.exists(input_dir):\n",
    "        print(\"ok\") \n",
    "    else :\n",
    "        print(\" !!! input_dir error....... please enter carefully\" )\n",
    "        continue\n",
    "        \n",
    "     \n",
    "    output_dir = input(\"enter the output directory ...   forexample: C:\\\\Users\\\\data\\\\out  ----> \")\n",
    "    ''' \n",
    "    if os.path.exists(output_dir):\n",
    "        print(\"ok\") \n",
    "    else:\n",
    "        print(\" !!! output_dir error....... please enter carefully\" )\n",
    "        continue\n",
    "    ''' \n",
    "    file_extension =input(\"What is the file extension ...    forexample: tif ----> \")\n",
    "    \n",
    "\n",
    "    if (file_extension == 'tif' or file_extension == 'png' or file_extension == 'jpg'):\n",
    "        print(\"ok\") \n",
    "        break\n",
    "    else:\n",
    "        print(\" !!! file_extension error....... please enter carefully\" )\n",
    "        continue     \n",
    "\n",
    "\n",
    "print(\"\\n Done...\")\n",
    "\n",
    "#  If the value of the  \"vis\"  is True = The output is also displayed as a plot \n",
    "vis = True\n",
    "\n",
    "Normalization.patch_norm(input_dir , output_dir , 'H_E' , file_extension,vis)"
   ]
  },
  {
   "cell_type": "markdown",
   "id": "62a9e37d",
   "metadata": {},
   "source": [
    "## use of patch extraction with normalization function"
   ]
  },
  {
   "cell_type": "code",
   "execution_count": null,
   "id": "6e218cc7",
   "metadata": {},
   "outputs": [],
   "source": [
    "while True:\n",
    "\n",
    "    \n",
    "    patchsize = int(input(r\"please enter patch size ...    forexample: 255 ---->\"))\n",
    "    \n",
    "    output_directory = input(r\"please enter output directory ...    forexample: C:\\Users\\data\\output ---->\")\n",
    "    \n",
    "    \n",
    "    # loading random state , 1 is True , 0 is False . if 1 entered , patches are extarct Randomly from the whole slide image\n",
    "    # if 0 entered patches extract From the beginning of the image with a loop on the rows and columns\n",
    "    # Any part that contains an image, not a white page, is extracted\n",
    "    \n",
    "    random_state = int(input(r\"please enter random state ...    1 = randomize ,  2 = non-randomized  ---->\"))\n",
    "    \n",
    "    if random_state==1 :\n",
    "        random_state= True\n",
    "    if random_state==2 :\n",
    "        random_state= False\n",
    "        \n",
    "    patch_numbers = int(input(r\"please enter patch numbers...  ---->\"))\n",
    "    #  If the value of the  \"vis\"  is 1 = The output is also displayed as a plot\n",
    "    vis_state = int(input(\"do you want to plot some patches ? (1 = yes i want  ,   2 = no  ) ---->\"))\n",
    "    \n",
    "    print(\"\\n\")\n",
    "    \n",
    "    #Checking folder availability\n",
    "    if os.path.exists(output_directory):\n",
    "        if random_state==True or random_state==False:\n",
    "            ReadWsi.patch_extraction_with_normalized_tiles(wsi_obj,patchsize,output_directory,random_state,patch_numbers)\n",
    "            break\n",
    "        else :\n",
    "            print('random_state that entered is wrong')\n",
    "            continue\n",
    "    else:\n",
    "        print('output_directory that entered is wrong')\n",
    "        continue"
   ]
  },
  {
   "cell_type": "code",
   "execution_count": null,
   "id": "9d7dd528",
   "metadata": {},
   "outputs": [],
   "source": [
    "patchsize= 256\n",
    "\n",
    "output_directory = dir_file + '\\\\out_dir\\\\'\n",
    "\n",
    "print(\"\\n**********************< without randam state >************************\\n\")\n",
    "\n",
    "\n",
    "    # loading random state , 1 is True , 0 is False . if 1 entered , patches are extarct Randomly from the whole slide image\n",
    "    # if 0 entered patches extract From the beginning of the image with a loop on the rows and columns\n",
    "    # Any part that contains an image, not a white page, is extracted\n",
    "    \n",
    "random_state = False\n",
    "# Number of patches to be extracted\n",
    "patch_numbers = 2\n",
    "\n",
    "ReadWsi.patch_extraction_with_normalized_tiles(wsi_obj,patchsize,output_directory,random_state,patch_numbers)\n",
    "\n",
    "\n",
    "print(\"\\n**********************< with randam state >************************\\n\")\n",
    "#  If the value of the random_state is True = patches are randomly extracted\n",
    "random_state = True\n",
    "patch_numbers = 2\n",
    "\n",
    "ReadWsi.patch_extraction_with_normalized_tiles(wsi_obj,patchsize,output_directory,random_state,patch_numbers)\n"
   ]
  },
  {
   "cell_type": "markdown",
   "id": "6003d953",
   "metadata": {},
   "source": [
    "## Reinhard Normalization\n",
    "\n",
    "#Reinhard is a method for color normalization whole slide images"
   ]
  },
  {
   "cell_type": "code",
   "execution_count": null,
   "id": "f47a395f",
   "metadata": {},
   "outputs": [],
   "source": [
    "image = input (\"Enter image path : \")\n",
    "\n",
    "\n",
    "image , image_norm = Normalization.reinhard(image)\n",
    "\n",
    "fig, axarr = plt.subplots(1,2)\n",
    "axarr[0].imshow(image)\n",
    "axarr[0].set_title(\"input image\")\n",
    "axarr[1].imshow(image_norm)\n",
    "axarr[1].set_title(\"Reinhard normalization\")"
   ]
  }
 ],
 "metadata": {
  "kernelspec": {
   "display_name": "Python 3",
   "language": "python",
   "name": "python3"
  },
  "language_info": {
   "codemirror_mode": {
    "name": "ipython",
    "version": 3
   },
   "file_extension": ".py",
   "mimetype": "text/x-python",
   "name": "python",
   "nbconvert_exporter": "python",
   "pygments_lexer": "ipython3",
   "version": "3.8.8"
  }
 },
 "nbformat": 4,
 "nbformat_minor": 5
}

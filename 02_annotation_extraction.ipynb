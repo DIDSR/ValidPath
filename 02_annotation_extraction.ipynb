{
 "cells": [
  {
   "cell_type": "markdown",
   "id": "9007be74",
   "metadata": {},
   "source": [
    "# Extract Annotations from Whole Slide Image\n",
    "\n",
    "Click to open in:  \\[[GitHub](https://github.com/DIDSR/wsi_processing_toolbox/02_annotation_extraction.ipynb)\\]\n",
    "\n",
    "Developer: Seyed.kahaki@fda.hhs.gov"
   ]
  },
  {
   "cell_type": "markdown",
   "id": "e148871e",
   "metadata": {},
   "source": [
    "## Annotation Extraction Demo\n",
    "\n",
    "This demonstration guides you through the process extracting image regions from the WSI. We achieve this through using WSIToolbox's Annotation Extractor class. This demonstration should provide you with the instruction to use WSIToolbox for extracting annotations and the annotation masks."
   ]
  },
  {
   "cell_type": "markdown",
   "id": "0ae4924b",
   "metadata": {},
   "source": [
    "## Environment Configuration\n",
    "\n",
    "Please follow the instruction provided in the Installation section to install related dependencies. If this isn't your first time running this code and you have all these packages installed, you can skip to the next step. If you choose to run it regardless, you might encounter an error message; however, this won't negatively impact your session. On Jupyter Notebook, this cell is responsible for installing required packages for wsi_reader module."
   ]
  },
  {
   "cell_type": "code",
   "execution_count": null,
   "id": "51f294a9",
   "metadata": {},
   "outputs": [],
   "source": [
    "# to check the python version\n",
    "from platform import python_version\n",
    "print(python_version())\n",
    "#pip install mpmath==1.2.1\n",
    "#pip install lxml==4.9.1\n",
    "\n",
    "print(\"Installation is done.\")"
   ]
  },
  {
   "cell_type": "markdown",
   "id": "820abba2",
   "metadata": {},
   "source": [
    "If you haven’t installed the packages based on the instruction provided for the WSI Reader module, please install these packages as well"
   ]
  },
  {
   "cell_type": "code",
   "execution_count": null,
   "id": "ebd57329",
   "metadata": {},
   "outputs": [],
   "source": [
    "# !apt-get -y install libopenjp2-7-dev libopenjp2-tools openslide-tools | tail --line 1\n",
    "# pip install cv2== 4.5.3\n",
    "# pip install openslide-python==1.1.2\n",
    "# pip install Shapely==1.7.1\n",
    "# pip install  tifffile==2022.10.10\n",
    "# pip install random\n",
    "# pip install glob\n",
    "# print(\"Installation is done.\")\n",
    "import cv2"
   ]
  },
  {
   "cell_type": "markdown",
   "id": "b6927d7a",
   "metadata": {},
   "source": [
    "Note: if you get an error related to openCV, please re-install it using the following commands:"
   ]
  },
  {
   "cell_type": "code",
   "execution_count": null,
   "id": "b770448f",
   "metadata": {},
   "outputs": [],
   "source": [
    "# pip3 uninstall opencv-python-headless\n",
    "# pip3 install opencv-python-headless"
   ]
  },
  {
   "cell_type": "markdown",
   "id": "22f49e24",
   "metadata": {},
   "source": [
    "## Cleaning up residual files from prior sessions\n",
    "\n",
    "The following cell will delete the output directory (for example: C:/Users/data), assuming it exists due to an earlier run of this notebook. If this is your initial run, you can disregard this step."
   ]
  },
  {
   "cell_type": "code",
   "execution_count": null,
   "id": "5d808f6a",
   "metadata": {},
   "outputs": [],
   "source": [
    "#![ -d 'C:/Users/data' ] && ( echo \"deleting tmp directory\"; rm -rf 'C:/Users/data' )"
   ]
  },
  {
   "cell_type": "markdown",
   "id": "d538d97b",
   "metadata": {},
   "source": [
    "## Loading Required Packages\n",
    "\n",
    "In this step, we will import several Python modules that are needed for our analysis."
   ]
  },
  {
   "cell_type": "code",
   "execution_count": null,
   "id": "f857f065",
   "metadata": {},
   "outputs": [],
   "source": [
    "from annotation.annotationextractor import AnnotationExtractor \n",
    "import os"
   ]
  },
  {
   "cell_type": "markdown",
   "id": "83d7aa43",
   "metadata": {},
   "source": [
    "## Read Whole Slide Image and XML files\n",
    "\n",
    "In this section, we read WSIs and XML files from a given directory and create a list for further processing. Please note that for each WSI file, there should be an XML file containing annotations with the same filename as the WSI filename. For example: Aperio1.svs and Aperio1.xml. In this part, you will also enter and set the output directory which the extracted annotation will be stored.  "
   ]
  },
  {
   "cell_type": "code",
   "execution_count": null,
   "id": "2e87465c",
   "metadata": {},
   "outputs": [],
   "source": [
    "dir_file =input(\"Please enter the file directory, for example: C:/DATA/0_Washu-Aperio/: \")\n",
    "\n",
    "wsis=[]\n",
    "xmls=[]\n",
    "\n",
    "files = os.listdir(dir_file)\n",
    "\n",
    "for i in files :\n",
    "    \n",
    "    #extract all wsi files and xml files\n",
    "    if i.endswith(\".svs\")==True :\n",
    "        if os.path.exists(dir_file+'\\\\'+i[:-4]+\".xml\"):\n",
    "            wsis.append(i)\n",
    "            xmls.append(i[:-4]+\".xml\")\n",
    "        \n",
    "\n",
    "WSIs_ = [os.path.join(dir_file,f) for f in wsis]\n",
    "XMLs_ = [os.path.join(dir_file,f) for f in xmls]\n",
    "print(WSIs_,XMLs_)\n",
    "\n",
    "save_dir =input(\"Please enter the output directory, for example C:/DATA/0_Washu-Aperio/out_dir/: \")"
   ]
  },
  {
   "cell_type": "markdown",
   "id": "63e87340",
   "metadata": {},
   "source": [
    "## Extracting Annotation\n",
    "\n",
    "In this section, we will use the extract_ann method of the AnnotationExtractor class to extract the annotations. First, we need to define an object from the AnnotationExtractor class, and call the extract_ann method. There are three inputs required to call the extract_ann method which are, <save directory>, <a variable with list of XMLs>, and <a variable with list of WSIs>. These variables are defined in the previous section (Read Whole Slide Image and XML files). Now, lets call the method and extract annotations. This can be done using the following code. The code will extract the annotations and save them in the defined directory. You will also see the list of extracted annotations with their corresponding IDs in the output section."
   ]
  },
  {
   "cell_type": "code",
   "execution_count": null,
   "id": "a9c27ae5",
   "metadata": {},
   "outputs": [],
   "source": [
    "\n",
    "ann = AnnotationExtractor()\n",
    "\n",
    "#Extracting all annotations and save them in the save directory.\n",
    "\n",
    "ann.extract_ann (save_dir ,XMLs_ , WSIs_) "
   ]
  },
  {
   "cell_type": "markdown",
   "id": "69619ee5",
   "metadata": {},
   "source": [
    "## Extracting Annotation and Visualize\n",
    "\n",
    "You also can set the visualization parameter to “True” in order to extract the annotations and visualize the results. You can run the following code to extract annotations."
   ]
  },
  {
   "cell_type": "code",
   "execution_count": null,
   "id": "dd5ccb71",
   "metadata": {},
   "outputs": [],
   "source": [
    "ann = AnnotationExtractor()\n",
    "Visualization = True\n",
    "\n",
    "#Extracting all annotations and save them in the save directory and plotting them.\n",
    "\n",
    "ann.extract_ann (save_dir ,XMLs_ , WSIs_,Visualization) "
   ]
  },
  {
   "cell_type": "markdown",
   "id": "4e56218b",
   "metadata": {},
   "source": [
    "## Extracting Annotation and Mask\n",
    "\n",
    "The extract_ann method of the AnnotationExtractor class allows you to extract both annotations and the mask at the same time and save them into the save directory as specified earlier. For this goal, you can run the following code and setting the save_mask parameter to “True” as follows. "
   ]
  },
  {
   "cell_type": "code",
   "execution_count": null,
   "id": "f5916027",
   "metadata": {},
   "outputs": [],
   "source": [
    "ann = AnnotationExtractor()\n",
    "Visualization = True\n",
    "save_mask = True\n",
    "\n",
    "#Extracting all annotations and their mask save them in the save directory and plotting.\n",
    "\n",
    "ann.extract_ann (save_dir ,XMLs_ , WSIs_,Visualization,save_mask) "
   ]
  },
  {
   "cell_type": "code",
   "execution_count": null,
   "id": "e73d2525",
   "metadata": {},
   "outputs": [],
   "source": []
  }
 ],
 "metadata": {
  "celltoolbar": "Edit Metadata",
  "kernelspec": {
   "display_name": "Python 3",
   "language": "python",
   "name": "python3"
  },
  "language_info": {
   "codemirror_mode": {
    "name": "ipython",
    "version": 3
   },
   "file_extension": ".py",
   "mimetype": "text/x-python",
   "name": "python",
   "nbconvert_exporter": "python",
   "pygments_lexer": "ipython3",
   "version": "3.8.8"
  }
 },
 "nbformat": 4,
 "nbformat_minor": 5
}
